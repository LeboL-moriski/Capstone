{
 "cells": [
  {
   "cell_type": "markdown",
   "metadata": {},
   "source": [
    "# QCTO - Workplace Module\n",
    "\n",
    "### Project Title: Contaminated River Water Parameters\n",
    "#### Done By: Lebogang Letsoalo\n",
    "\n",
    "© ExploreAI 2024\n",
    "\n",
    "---\n",
    "\n",
    "## Table of Contents\n",
    "\n",
    "<a href=#BC> Background Context</a>\n",
    "\n",
    "<a href=#one>1. Importing Packages</a>\n",
    "\n",
    "<a href=#two>2. Data Collection and Description</a>\n",
    "\n",
    "<a href=#three>3. Loading Data </a>\n",
    "\n",
    "<a href=#four>4. Data Cleaning and Filtering</a>\n",
    "\n",
    "<a href=#five>5. Exploratory Data Analysis (EDA)</a>\n",
    "\n",
    "<a href=#six>6. Modeling </a>\n",
    "\n",
    "<a href=#seven>7. Evaluation and Validation</a>\n",
    "\n",
    "<a href=#eight>8. Final Model</a>\n",
    "\n",
    "<a href=#nine>9. Conclusion and Future Work</a>\n",
    "\n",
    "<a href=#ten>10. References</a>\n",
    "\n",
    "<a href=#Eleven>11. Trello and Github link</a>"
   ]
  },
  {
   "cell_type": "code",
   "execution_count": 15,
   "metadata": {},
   "outputs": [
    {
     "data": {
      "text/html": [
       "<center><img src=https://media.istockphoto.com/id/1390096829/photo/environment-engineer-collect-samples-of-wastewater-from-industrial-canals-in-test-tube-close.jpg?s=2048x2048&w=is&k=20&c=Cf_1pRlXeFtnAPwiQGbgWFHdBjYXwgp8qDPa_EI31nk= width=\"500\" height=\"100\"></center>"
      ],
      "text/plain": [
       "<IPython.core.display.HTML object>"
      ]
     },
     "metadata": {},
     "output_type": "display_data"
    }
   ],
   "source": [
    "from IPython.display import display, HTML, Image\n",
    "\n",
    "# Display the image in the center of the notebook\n",
    "display(HTML('<center><img src=https://media.istockphoto.com/id/1390096829/photo/environment-engineer-collect-samples-of-wastewater-from-industrial-canals-in-test-tube-close.jpg?s=2048x2048&w=is&k=20&c=Cf_1pRlXeFtnAPwiQGbgWFHdBjYXwgp8qDPa_EI31nk= width=\"500\" height=\"100\"></center>'))\n"
   ]
  },
  {
   "cell_type": "markdown",
   "metadata": {},
   "source": [
    "---\n",
    " <a id=\"BC\"></a>\n",
    "## **Background Context**\n",
    "<a href=#cont>Back to Table of Contents</a>\n",
    "\n",
    "* **Purpose:**\n",
    "The purpose of this project is to analyze the physico-chemical parameters of a polluted river located in Buenos Aires, with a focus on identifying trends, correlations, and potential health or environmental risks. The project aims to utilize data collected from various sampling points to better understand the pollution levels and their impacts on water quality.\n",
    "  \n",
    "* **Introduce:**\n",
    "Water pollution is a significant environmental issue in many urban areas, including Buenos Aires, where industrial, agricultural, and domestic activities contribute to the contamination of nearby rivers. The physico-chemical parameters of river water, such as temperature, pH, electrical conductivity (EC), total dissolved solids (TDS), and total suspended solids (TSS), provide vital information about the water quality and its suitability for human consumption, aquatic life, and ecological health. By examining these parameters over time and across different locations, this project seeks to uncover patterns of contamination and inform potential mitigation strategies.\n",
    "\n",
    "* **Objectives:**\n",
    "Data exploration and cleaning: Data Exploration and Cleaning: Organize and clean the data, addressing any missing values or inconsistencies to ensure accurate analysis.\n",
    "Trend Analysis: Analyze how key physico-chemical parameters such as pH, electrical conductivity, total dissolved solids, and total suspended solids change over time and across different sampling locations.\n",
    "Correlation Study: Identify relationships between different environmental variables (e.g., temperature, humidity, and pH) and how they influence the river's contamination levels.\n",
    "Predictive Modeling: Build models to predict water quality based on various environmental factors and sampling data.\n",
    "Recommendations for Environmental Management: Provide actionable insights and recommendations for improving water quality, including identifying critical pollution sources and suggesting mitigation measures."
   ]
  },
  {
   "cell_type": "markdown",
   "metadata": {},
   "source": [
    "---\n",
    "<a href=#one></a>\n",
    "## **Importing Packages**\n",
    "<a href=#cont>Back to Table of Contents</a>\n",
    "\n",
    "* **Purpose:** Set up the Python environment with necessary libraries and tools.\n",
    "* **Details:** List and import all the Python packages that will be used throughout the project such as Pandas for data manipulation, Matplotlib/Seaborn for visualization, scikit-learn for modeling, etc.\n",
    "---"
   ]
  },
  {
   "cell_type": "code",
   "execution_count": 14,
   "metadata": {},
   "outputs": [],
   "source": [
    "#Please use code cells to code in and do not forget to comment your code.\n",
    "# Libraries for data loading, manipulation and analysis\n",
    "\n",
    "import numpy as np\n",
    "import pandas as pd\n",
    "import csv\n",
    "import seaborn as sns\n",
    "import matplotlib.pyplot as plt\n",
    "import mlflow\n",
    "import mlflow.sklearn\n",
    "\n",
    "import plotly.express as px\n",
    "import scipy\n",
    "import winsound # -- Used specifically to notify when hour-long code finishes xD "
   ]
  },
  {
   "cell_type": "markdown",
   "metadata": {},
   "source": [
    "---\n",
    "<a href=#two></a>\n",
    "## **Data Collection and Description**\n",
    "<a href=#cont>Back to Table of Contents</a>\n",
    "\n",
    "* **Purpose:** Describe how the data was collected and provide an overview of its characteristics.\n",
    "* **Details:** Mention sources of the data, the methods used for collection (e.g., APIs, web scraping, datasets from repositories), and a general description of the dataset including size, scope, and types of data available (e.g., numerical, categorical).\n",
    "---"
   ]
  },
  {
   "cell_type": "markdown",
   "metadata": {},
   "source": [
    "\n",
    "### Project Details: Contaminated River Water Parameters Analysis\r\n",
    "\r\n",
    "#### Dataset Overview\r\n",
    "The dataset used for this analysis was sourced from Kaggle and is the result of a collaborative research effort by three university researchers from Argentina. The research team collected water samples from a widely known polluted river located in Buenos Aires. These samples were taken from various sampling points along the river, including **Puente_Bilbao**, **Puente_Irigoyen**, and **Puente_Falbo**, and analyzed in a chemistry laboratory to measure several physico-chemical parametenent.\r\n",
    "\r\n",
    "The dataset has the following structure:\r\n",
    "\r\n",
    "- **Columns**: 32\r\n",
    "  - **Decimal values**: 14 columns (representing numerical values like temperature, pH, EC, TDS, and TSS).\r\n",
    "  - **Integer values**: 10 columns (representing variables like time, sample counts, or other measurements).\r\n",
    "  - **String values**: 6 columns (including sampling point names and other categorical data).\r\n",
    "\r\n",
    "The data is **chronologically sorted**, ensuring that the time sequence of the samples is preserved. This enables the identification of trends and variations over time, which is crucial for analyzing changes in water quality and the impac of pollution.\r\n",
    "\r\n",
    "#### Sampling Points\r\n",
    "The dataset includes water samples collected from three key sampling points located along the river:\r\n",
    "- **Puente_Bilbao**\r\n",
    "- **Puente_Irigoyen**Arroyo_Las Torres and Arroyo_Salguero are sampling points of 2 different streams flowing into the river.\n",
    "ewater quality in the river."
   ]
  },
  {
   "cell_type": "markdown",
   "metadata": {},
   "source": [
    "---\n",
    "<a href=#three></a>\n",
    "## **Loading Data**\n",
    "<a href=#cont>Back to Table of Contents</a>\n",
    "\n",
    "* **Purpose:** Load the data into the notebook for manipulation and analysis.\n",
    "* **Details:** Show the code used to load the data and display the first few rows to give a sense of what the raw data looks like.\n",
    "---"
   ]
  },
  {
   "cell_type": "code",
   "execution_count": 15,
   "metadata": {},
   "outputs": [],
   "source": [
    "#reading the data\n",
    "df = pd.read_csv('archive/River_water parameters.csv')\n"
   ]
  },
  {
   "cell_type": "code",
   "execution_count": 16,
   "metadata": {},
   "outputs": [
    {
     "data": {
      "text/html": [
       "<div>\n",
       "<style scoped>\n",
       "    .dataframe tbody tr th:only-of-type {\n",
       "        vertical-align: middle;\n",
       "    }\n",
       "\n",
       "    .dataframe tbody tr th {\n",
       "        vertical-align: top;\n",
       "    }\n",
       "\n",
       "    .dataframe thead th {\n",
       "        text-align: right;\n",
       "    }\n",
       "</style>\n",
       "<table border=\"1\" class=\"dataframe\">\n",
       "  <thead>\n",
       "    <tr style=\"text-align: right;\">\n",
       "      <th></th>\n",
       "      <th>Date (DD/MM/YYYY)</th>\n",
       "      <th>Time (24 hrs XX:XX)</th>\n",
       "      <th>Sampling point</th>\n",
       "      <th>Ambient temperature (°C)</th>\n",
       "      <th>Ambient humidity</th>\n",
       "      <th>Sample temperature (°C)</th>\n",
       "      <th>pH</th>\n",
       "      <th>EC\\n(µS/cm)</th>\n",
       "      <th>TDS\\n(mg/L)</th>\n",
       "      <th>TSS\\n(mL sed/L)</th>\n",
       "      <th>DO\\n(mg/L)</th>\n",
       "      <th>Level (cm)</th>\n",
       "      <th>Turbidity (NTU)</th>\n",
       "      <th>Hardness\\n(mg CaCO3/L)</th>\n",
       "      <th>Hardness classification</th>\n",
       "      <th>Total Cl-\\n(mg Cl-/L)</th>\n",
       "    </tr>\n",
       "  </thead>\n",
       "  <tbody>\n",
       "    <tr>\n",
       "      <th>0</th>\n",
       "      <td>09/05/2023</td>\n",
       "      <td>14:15</td>\n",
       "      <td>Puente Bilbao</td>\n",
       "      <td>17.0</td>\n",
       "      <td>0.47</td>\n",
       "      <td>19.0</td>\n",
       "      <td>8.3</td>\n",
       "      <td>1630</td>\n",
       "      <td>810</td>\n",
       "      <td>1.8</td>\n",
       "      <td>4.30</td>\n",
       "      <td>NaN</td>\n",
       "      <td>NaN</td>\n",
       "      <td>147.0</td>\n",
       "      <td>BLANDA</td>\n",
       "      <td>156.0</td>\n",
       "    </tr>\n",
       "    <tr>\n",
       "      <th>1</th>\n",
       "      <td>14/06/2023</td>\n",
       "      <td>14:30</td>\n",
       "      <td>Puente Bilbao</td>\n",
       "      <td>11.9</td>\n",
       "      <td>0.47</td>\n",
       "      <td>13.0</td>\n",
       "      <td>8.1</td>\n",
       "      <td>1000</td>\n",
       "      <td>490</td>\n",
       "      <td>18.0</td>\n",
       "      <td>5.30</td>\n",
       "      <td>NaN</td>\n",
       "      <td>41.2</td>\n",
       "      <td>94.0</td>\n",
       "      <td>BLANDA</td>\n",
       "      <td>78.0</td>\n",
       "    </tr>\n",
       "    <tr>\n",
       "      <th>2</th>\n",
       "      <td>14/06/2023</td>\n",
       "      <td>14:30</td>\n",
       "      <td>Puente Bilbao</td>\n",
       "      <td>11.9</td>\n",
       "      <td>0.47</td>\n",
       "      <td>13.0</td>\n",
       "      <td>8.2</td>\n",
       "      <td>1000</td>\n",
       "      <td>490</td>\n",
       "      <td>18.0</td>\n",
       "      <td>4.67</td>\n",
       "      <td>NaN</td>\n",
       "      <td>38.9</td>\n",
       "      <td>86.0</td>\n",
       "      <td>BLANDA</td>\n",
       "      <td>82.0</td>\n",
       "    </tr>\n",
       "    <tr>\n",
       "      <th>3</th>\n",
       "      <td>14/06/2023</td>\n",
       "      <td>15:00</td>\n",
       "      <td>Arroyo_Las Torres</td>\n",
       "      <td>11.9</td>\n",
       "      <td>0.47</td>\n",
       "      <td>13.0</td>\n",
       "      <td>8.3</td>\n",
       "      <td>1350</td>\n",
       "      <td>670</td>\n",
       "      <td>0.1</td>\n",
       "      <td>7.01</td>\n",
       "      <td>NaN</td>\n",
       "      <td>30.7</td>\n",
       "      <td>200.0</td>\n",
       "      <td>SEMIDURA</td>\n",
       "      <td>117.0</td>\n",
       "    </tr>\n",
       "    <tr>\n",
       "      <th>4</th>\n",
       "      <td>14/06/2023</td>\n",
       "      <td>15:00</td>\n",
       "      <td>Arroyo_Las Torres</td>\n",
       "      <td>11.9</td>\n",
       "      <td>0.47</td>\n",
       "      <td>13.0</td>\n",
       "      <td>8.5</td>\n",
       "      <td>1350</td>\n",
       "      <td>660</td>\n",
       "      <td>0.1</td>\n",
       "      <td>7.23</td>\n",
       "      <td>NaN</td>\n",
       "      <td>25.6</td>\n",
       "      <td>196.0</td>\n",
       "      <td>SEMIDURA</td>\n",
       "      <td>117.0</td>\n",
       "    </tr>\n",
       "  </tbody>\n",
       "</table>\n",
       "</div>"
      ],
      "text/plain": [
       "  Date (DD/MM/YYYY) Time (24 hrs XX:XX)     Sampling point  \\\n",
       "0        09/05/2023               14:15      Puente Bilbao   \n",
       "1        14/06/2023               14:30      Puente Bilbao   \n",
       "2        14/06/2023               14:30      Puente Bilbao   \n",
       "3        14/06/2023               15:00  Arroyo_Las Torres   \n",
       "4        14/06/2023               15:00  Arroyo_Las Torres   \n",
       "\n",
       "   Ambient temperature (°C)  Ambient humidity  Sample temperature (°C)   pH  \\\n",
       "0                      17.0              0.47                     19.0  8.3   \n",
       "1                      11.9              0.47                     13.0  8.1   \n",
       "2                      11.9              0.47                     13.0  8.2   \n",
       "3                      11.9              0.47                     13.0  8.3   \n",
       "4                      11.9              0.47                     13.0  8.5   \n",
       "\n",
       "   EC\\n(µS/cm)  TDS\\n(mg/L)  TSS\\n(mL sed/L)  DO\\n(mg/L)  Level (cm)  \\\n",
       "0         1630          810              1.8        4.30         NaN   \n",
       "1         1000          490             18.0        5.30         NaN   \n",
       "2         1000          490             18.0        4.67         NaN   \n",
       "3         1350          670              0.1        7.01         NaN   \n",
       "4         1350          660              0.1        7.23         NaN   \n",
       "\n",
       "   Turbidity (NTU)  Hardness\\n(mg CaCO3/L) Hardness classification  \\\n",
       "0              NaN                   147.0                  BLANDA   \n",
       "1             41.2                    94.0                  BLANDA   \n",
       "2             38.9                    86.0                  BLANDA   \n",
       "3             30.7                   200.0                SEMIDURA   \n",
       "4             25.6                   196.0                SEMIDURA   \n",
       "\n",
       "   Total Cl-\\n(mg Cl-/L)  \n",
       "0                  156.0  \n",
       "1                   78.0  \n",
       "2                   82.0  \n",
       "3                  117.0  \n",
       "4                  117.0  "
      ]
     },
     "execution_count": 16,
     "metadata": {},
     "output_type": "execute_result"
    }
   ],
   "source": [
    "#Print dataset\n",
    "df.head()"
   ]
  },
  {
   "cell_type": "code",
   "execution_count": 17,
   "metadata": {},
   "outputs": [
    {
     "name": "stdout",
     "output_type": "stream",
     "text": [
      "<class 'pandas.core.frame.DataFrame'>\n",
      "RangeIndex: 219 entries, 0 to 218\n",
      "Data columns (total 16 columns):\n",
      " #   Column                    Non-Null Count  Dtype  \n",
      "---  ------                    --------------  -----  \n",
      " 0   Date (DD/MM/YYYY)         219 non-null    object \n",
      " 1   Time (24 hrs XX:XX)       219 non-null    object \n",
      " 2   Sampling point            219 non-null    object \n",
      " 3   Ambient temperature (°C)  219 non-null    float64\n",
      " 4   Ambient humidity          219 non-null    float64\n",
      " 5   Sample temperature (°C)   219 non-null    float64\n",
      " 6   pH                        219 non-null    float64\n",
      " 7   EC\n",
      "(µS/cm)                219 non-null    int64  \n",
      " 8   TDS\n",
      "(mg/L)                219 non-null    int64  \n",
      " 9   TSS\n",
      "(mL sed/L)            213 non-null    float64\n",
      " 10  DO\n",
      "(mg/L)                 219 non-null    float64\n",
      " 11  Level (cm)                180 non-null    float64\n",
      " 12  Turbidity (NTU)           218 non-null    float64\n",
      " 13  Hardness\n",
      "(mg CaCO3/L)     217 non-null    float64\n",
      " 14  Hardness classification   217 non-null    object \n",
      " 15  Total Cl-\n",
      "(mg Cl-/L)      213 non-null    float64\n",
      "dtypes: float64(10), int64(2), object(4)\n",
      "memory usage: 27.5+ KB\n"
     ]
    }
   ],
   "source": [
    "#Print river water parameters dataset\n",
    "df.info()"
   ]
  },
  {
   "cell_type": "code",
   "execution_count": 18,
   "metadata": {},
   "outputs": [
    {
     "data": {
      "text/plain": [
       "Date (DD/MM/YYYY)            0\n",
       "Time (24 hrs XX:XX)          0\n",
       "Sampling point               0\n",
       "Ambient temperature (°C)     0\n",
       "Ambient humidity             0\n",
       "Sample temperature (°C)      0\n",
       "pH                           0\n",
       "EC\\n(µS/cm)                  0\n",
       "TDS\\n(mg/L)                  0\n",
       "TSS\\n(mL sed/L)              6\n",
       "DO\\n(mg/L)                   0\n",
       "Level (cm)                  39\n",
       "Turbidity (NTU)              1\n",
       "Hardness\\n(mg CaCO3/L)       2\n",
       "Hardness classification      2\n",
       "Total Cl-\\n(mg Cl-/L)        6\n",
       "dtype: int64"
      ]
     },
     "execution_count": 18,
     "metadata": {},
     "output_type": "execute_result"
    }
   ],
   "source": [
    "#check for missing values in each row \n",
    "df.isnull().sum()\n"
   ]
  },
  {
   "cell_type": "code",
   "execution_count": 19,
   "metadata": {},
   "outputs": [
    {
     "name": "stdout",
     "output_type": "stream",
     "text": [
      "Empty DataFrame\n",
      "Columns: [Date (DD/MM/YYYY), Time (24 hrs XX:XX), Sampling point, Ambient temperature (°C), Ambient humidity, Sample temperature (°C), pH, EC\n",
      "(µS/cm), TDS\n",
      "(mg/L), TSS\n",
      "(mL sed/L), DO\n",
      "(mg/L), Level (cm), Turbidity (NTU), Hardness\n",
      "(mg CaCO3/L), Hardness classification, Total Cl-\n",
      "(mg Cl-/L)]\n",
      "Index: []\n"
     ]
    }
   ],
   "source": [
    "# Check for duplicate rows\n",
    "duplicates = df[df.duplicated()]\n",
    "print(duplicates.head())"
   ]
  },
  {
   "cell_type": "markdown",
   "metadata": {},
   "source": [
    "---\n",
    "<a href=#four></a>\n",
    "## **Data Cleaning and Filtering**\n",
    "<a href=#cont>Back to Table of Contents</a>\n",
    "\n",
    "* **Purpose:** Prepare the data for analysis by cleaning and filtering.\n",
    "* **Details:** Include steps for handling missing values, removing outliers, correcting errors, and possibly reducing the data (filtering based on certain criteria or features).\n",
    "---"
   ]
  },
  {
   "cell_type": "code",
   "execution_count": 20,
   "metadata": {},
   "outputs": [],
   "source": [
    "# Dropping the rows with small missing values\n",
    "df = df.dropna(subset=['Turbidity (NTU)'])\n",
    "df = df.dropna(subset=['Hardness\\n(mg CaCO3/L)'])\n",
    "df = df.dropna(subset=['Hardness classification'])\n",
    "df = df.dropna(subset=['TSS\\n(mL sed/L)'])\n",
    "df = df.dropna(subset=['Total Cl-\\n(mg Cl-/L)'])\n",
    "\n"
   ]
  },
  {
   "cell_type": "code",
   "execution_count": 21,
   "metadata": {},
   "outputs": [],
   "source": [
    "# Calculate the mean of the 'Level (cm)' column, ignoring NaN values\n",
    "mean_level = df['Level (cm)'].mean()"
   ]
  },
  {
   "cell_type": "code",
   "execution_count": 22,
   "metadata": {},
   "outputs": [],
   "source": [
    "# Fill NaN values in the 'Level (cm)' column with the calculated mean\n",
    "df['Level (cm)'] = df['Level (cm)'].fillna(mean_level)\n"
   ]
  },
  {
   "cell_type": "code",
   "execution_count": 23,
   "metadata": {},
   "outputs": [
    {
     "name": "stdout",
     "output_type": "stream",
     "text": [
      "  Date (DD/MM/YYYY) Time (24 hrs XX:XX)     Sampling point  \\\n",
      "0        14/06/2023               14:30      Puente Bilbao   \n",
      "1        14/06/2023               14:30      Puente Bilbao   \n",
      "2        14/06/2023               15:00  Arroyo_Las Torres   \n",
      "3        14/06/2023               15:00  Arroyo_Las Torres   \n",
      "4        14/06/2023               15:00    Puente Irigoyen   \n",
      "\n",
      "   Ambient temperature (°C)  Ambient humidity  Sample temperature (°C)   pH  \\\n",
      "0                      11.9              0.47                     13.0  8.1   \n",
      "1                      11.9              0.47                     13.0  8.2   \n",
      "2                      11.9              0.47                     13.0  8.3   \n",
      "3                      11.9              0.47                     13.0  8.5   \n",
      "4                      11.9              0.47                     13.0  8.2   \n",
      "\n",
      "   EC\\n(µS/cm)  TDS\\n(mg/L)  TSS\\n(mL sed/L)  DO\\n(mg/L)  Level (cm)  \\\n",
      "0         1000          490             18.0        5.30   38.095238   \n",
      "1         1000          490             18.0        4.67   38.095238   \n",
      "2         1350          670              0.1        7.01   38.095238   \n",
      "3         1350          660              0.1        7.23   38.095238   \n",
      "4         1200          590             26.0        5.44   38.095238   \n",
      "\n",
      "   Turbidity (NTU)  Hardness\\n(mg CaCO3/L) Hardness classification  \\\n",
      "0             41.2                    94.0                  BLANDA   \n",
      "1             38.9                    86.0                  BLANDA   \n",
      "2             30.7                   200.0                SEMIDURA   \n",
      "3             25.6                   196.0                SEMIDURA   \n",
      "4             24.6                   151.0                SEMIDURA   \n",
      "\n",
      "   Total Cl-\\n(mg Cl-/L)  \n",
      "0                   78.0  \n",
      "1                   82.0  \n",
      "2                  117.0  \n",
      "3                  117.0  \n",
      "4                  109.0  \n"
     ]
    }
   ],
   "source": [
    "# Remove duplicate rows\n",
    "df_cleaned = df.drop_duplicates()\n",
    "\n",
    "# reset the index after removing duplicates\n",
    "df_cleaned = df_cleaned.reset_index(drop=True)\n",
    "\n",
    "# Print the cleaned DataFrame\n",
    "print(df_cleaned.head())"
   ]
  },
  {
   "cell_type": "code",
   "execution_count": 2,
   "metadata": {},
   "outputs": [
    {
     "ename": "NameError",
     "evalue": "name 'df_cleaned' is not defined",
     "output_type": "error",
     "traceback": [
      "\u001b[1;31m---------------------------------------------------------------------------\u001b[0m",
      "\u001b[1;31mNameError\u001b[0m                                 Traceback (most recent call last)",
      "Cell \u001b[1;32mIn[2], line 4\u001b[0m\n\u001b[0;32m      1\u001b[0m \u001b[38;5;28;01mfrom\u001b[39;00m \u001b[38;5;21;01msklearn\u001b[39;00m\u001b[38;5;21;01m.\u001b[39;00m\u001b[38;5;21;01mfeature_extraction\u001b[39;00m\u001b[38;5;21;01m.\u001b[39;00m\u001b[38;5;21;01mtext\u001b[39;00m \u001b[38;5;28;01mimport\u001b[39;00m TfidfVectorizer\n\u001b[0;32m      3\u001b[0m vectorizer \u001b[38;5;241m=\u001b[39m TfidfVectorizer()\n\u001b[1;32m----> 4\u001b[0m X \u001b[38;5;241m=\u001b[39m vectorizer\u001b[38;5;241m.\u001b[39mfit_transform(df_cleaned[[\u001b[38;5;124m'\u001b[39m\u001b[38;5;124mSampling point\u001b[39m\u001b[38;5;124m'\u001b[39m,\u001b[38;5;124m'\u001b[39m\u001b[38;5;124mHardness classification\u001b[39m\u001b[38;5;124m'\u001b[39m]]) \n\u001b[0;32m      5\u001b[0m X\u001b[38;5;241m.\u001b[39mshape\n",
      "\u001b[1;31mNameError\u001b[0m: name 'df_cleaned' is not defined"
     ]
    }
   ],
   "source": [
    "from sklearn.feature_extraction.text import TfidfVectorizer\n",
    "\n",
    "vectorizer = TfidfVectorizer()\n",
    "X = vectorizer.fit_transform(df_cleaned[['Sampling point','Hardness classification']]) \n",
    "X.shape"
   ]
  },
  {
   "cell_type": "code",
   "execution_count": null,
   "metadata": {},
   "outputs": [],
   "source": [
    "!pip install scikit-learn"
   ]
  },
  {
   "cell_type": "code",
   "execution_count": 3,
   "metadata": {},
   "outputs": [],
   "source": [
    "from sklearn.preprocessing import LabelEncoder\n",
    "#sample data: categorical labels\n",
    "categorical_cols= ['Sampling point','Hardness classification']\n",
    "#Initialize the LabelEncoder\n",
    "label_encoder= LabelEncoder()\n",
    "# Create a dictionary to store original and encoded labels for each column\n",
    "label_mapping = {}  "
   ]
  },
  {
   "cell_type": "code",
   "execution_count": 21,
   "metadata": {},
   "outputs": [],
   "source": [
    "# 3. Fit and transform the data for each column\n",
    "for col in categorical_cols:\n",
    "    # Fit the encoder to the original labels\n",
    "    label_encoder.fit(df_cleaned[col])  \n",
    "    # Transform the original labels to encoded labels\n",
    "    df_cleaned[col + '_encoded'] = label_encoder.transform(df_cleaned[col])  \n",
    "    \n",
    "    # Store the mapping in the dictionary\n",
    "    label_mapping[col] = dict(zip(label_encoder.classes_, label_encoder.transform(label_encoder.classes_))) "
   ]
  },
  {
   "cell_type": "code",
   "execution_count": 22,
   "metadata": {},
   "outputs": [
    {
     "name": "stdout",
     "output_type": "stream",
     "text": [
      "Mapping for column: Sampling point\n",
      "  'Arroyo Salguero' --> 0\n",
      "  'Arroyo_Las Torres' --> 1\n",
      "  'Puente Bilbao' --> 2\n",
      "  'Puente Falbo' --> 3\n",
      "  'Puente Irigoyen' --> 4\n",
      "\n",
      "\n",
      "Mapping for column: Hardness classification\n",
      "  'BLANDA' --> 0\n",
      "  'SEMIDURA' --> 1\n",
      "\n",
      "\n"
     ]
    }
   ],
   "source": [
    "# 4. Display the mapping (Original Labels --> Encoded Labels)\n",
    "for column, mapping in label_mapping.items():\n",
    "    print(f\"Mapping for column: {column}\")\n",
    "    for original_label, encoded_label in mapping.items():\n",
    "        print(f\"  '{original_label}' --> {encoded_label}\")\n",
    "    print(\"\\n\")\n",
    "\n",
    "\n",
    "# To see the updated DataFrame with encoded columns, run:\n",
    "# df.head()\n",
    "\n",
    "# 5. Inverse Transform (Encoded Labels --> Original Labels)\n",
    "# (To convert encoded labels back to original labels):\n",
    "# df['Sampling point'] = label_encoder.inverse_transform(df['Sampling point_encoded'])"
   ]
  },
  {
   "cell_type": "markdown",
   "metadata": {},
   "source": [
    "---\n",
    "<a href=#five></a>\n",
    "## **Exploratory Data Analysis (EDA)**\n",
    "<a href=#cont>Back to Table of Contents</a>\n",
    "\n",
    "* **Purpose:** Explore and visualize the data to uncover patterns, trends, and relationships.\n",
    "* **Details:** Use statistics and visualizations to explore the data. This may include histograms, box plots, scatter plots, and correlation matrices. Discuss any significant findings.\n",
    "---\n"
   ]
  },
  {
   "cell_type": "code",
   "execution_count": 23,
   "metadata": {},
   "outputs": [
    {
     "data": {
      "image/png": "[encoded data removed]",
      "text/plain": [
       "<Figure size 1000x400 with 2 Axes>"
      ]
     },
     "metadata": {},
     "output_type": "display_data"
    }
   ],
   "source": [
    "# Calculate the correlation matrix\n",
    "correlation_matrix = df.corr(numeric_only=True)\n",
    "\n",
    "# Create a heatmap using seaborn\n",
    "plt.figure(figsize=(10, 4))\n",
    "sns.heatmap(df.corr(numeric_only=True), cmap='YlGnBu', fmt=\".2f\")\n",
    "plt.title('Correlation matrix contaminated River Water Parameters')\n",
    "plt.show()"
   ]
  },
  {
   "cell_type": "code",
   "execution_count": null,
   "metadata": {},
   "outputs": [],
   "source": [
    "# Set Figure Size: \n",
    "plt.figure(figsize=(12,8))\n",
    "\n",
    "# Box Plot with Seaborn\n",
    "sns.boxplot(data=df[['Bhindi (Ladies finger)','Tomato', 'Potato', 'Onion','Brinjal','Garlic','Peas','Green Chilli', 'Methi','Elephant Yam (Suran)']]) \n",
    "\n",
    "# Plot Titles and Labels:\n",
    "plt.title('Box Plot of contaminated River Water Parameters\n",
    "')\n",
    "plt.ylabel('Price')\n",
    "plt.xlabel('Vegetable')\n",
    "\n",
    "plt.show()"
   ]
  },
  {
   "cell_type": "code",
   "execution_count": 26,
   "metadata": {},
   "outputs": [
    {
     "ename": "KeyError",
     "evalue": "'Ambient temperature (˚C)'",
     "output_type": "error",
     "traceback": [
      "\u001b[1;31m---------------------------------------------------------------------------\u001b[0m",
      "\u001b[1;31mKeyError\u001b[0m                                  Traceback (most recent call last)",
      "File \u001b[1;32m~\\anaconda3\\Lib\\site-packages\\pandas\\core\\indexes\\base.py:3805\u001b[0m, in \u001b[0;36mIndex.get_loc\u001b[1;34m(self, key)\u001b[0m\n\u001b[0;32m   3804\u001b[0m \u001b[38;5;28;01mtry\u001b[39;00m:\n\u001b[1;32m-> 3805\u001b[0m     \u001b[38;5;28;01mreturn\u001b[39;00m \u001b[38;5;28mself\u001b[39m\u001b[38;5;241m.\u001b[39m_engine\u001b[38;5;241m.\u001b[39mget_loc(casted_key)\n\u001b[0;32m   3806\u001b[0m \u001b[38;5;28;01mexcept\u001b[39;00m \u001b[38;5;167;01mKeyError\u001b[39;00m \u001b[38;5;28;01mas\u001b[39;00m err:\n",
      "File \u001b[1;32mindex.pyx:167\u001b[0m, in \u001b[0;36mpandas._libs.index.IndexEngine.get_loc\u001b[1;34m()\u001b[0m\n",
      "File \u001b[1;32mindex.pyx:196\u001b[0m, in \u001b[0;36mpandas._libs.index.IndexEngine.get_loc\u001b[1;34m()\u001b[0m\n",
      "File \u001b[1;32mpandas\\\\_libs\\\\hashtable_class_helper.pxi:7081\u001b[0m, in \u001b[0;36mpandas._libs.hashtable.PyObjectHashTable.get_item\u001b[1;34m()\u001b[0m\n",
      "File \u001b[1;32mpandas\\\\_libs\\\\hashtable_class_helper.pxi:7089\u001b[0m, in \u001b[0;36mpandas._libs.hashtable.PyObjectHashTable.get_item\u001b[1;34m()\u001b[0m\n",
      "\u001b[1;31mKeyError\u001b[0m: 'Ambient temperature (˚C)'",
      "\nThe above exception was the direct cause of the following exception:\n",
      "\u001b[1;31mKeyError\u001b[0m                                  Traceback (most recent call last)",
      "Cell \u001b[1;32mIn[26], line 6\u001b[0m\n\u001b[0;32m      4\u001b[0m \u001b[38;5;28;01mfor\u001b[39;00m column \u001b[38;5;129;01min\u001b[39;00m columns_to_plot:\n\u001b[0;32m      5\u001b[0m     plt\u001b[38;5;241m.\u001b[39mfigure(figsize\u001b[38;5;241m=\u001b[39m(\u001b[38;5;241m8\u001b[39m, \u001b[38;5;241m6\u001b[39m))  \u001b[38;5;66;03m# Adjust figure size as needed\u001b[39;00m\n\u001b[1;32m----> 6\u001b[0m     plt\u001b[38;5;241m.\u001b[39mhist(df_cleaned[column], bins\u001b[38;5;241m=\u001b[39m\u001b[38;5;241m20\u001b[39m, edgecolor\u001b[38;5;241m=\u001b[39m\u001b[38;5;124m'\u001b[39m\u001b[38;5;124mk\u001b[39m\u001b[38;5;124m'\u001b[39m) \u001b[38;5;66;03m# Adjust number of bins as needed\u001b[39;00m\n\u001b[0;32m      7\u001b[0m     plt\u001b[38;5;241m.\u001b[39mtitle(\u001b[38;5;124mf\u001b[39m\u001b[38;5;124m'\u001b[39m\u001b[38;5;124mHistogram of \u001b[39m\u001b[38;5;132;01m{\u001b[39;00mcolumn\u001b[38;5;132;01m}\u001b[39;00m\u001b[38;5;124m'\u001b[39m)\n\u001b[0;32m      8\u001b[0m     plt\u001b[38;5;241m.\u001b[39mxlabel(column)\n",
      "File \u001b[1;32m~\\anaconda3\\Lib\\site-packages\\pandas\\core\\frame.py:4102\u001b[0m, in \u001b[0;36mDataFrame.__getitem__\u001b[1;34m(self, key)\u001b[0m\n\u001b[0;32m   4100\u001b[0m \u001b[38;5;28;01mif\u001b[39;00m \u001b[38;5;28mself\u001b[39m\u001b[38;5;241m.\u001b[39mcolumns\u001b[38;5;241m.\u001b[39mnlevels \u001b[38;5;241m>\u001b[39m \u001b[38;5;241m1\u001b[39m:\n\u001b[0;32m   4101\u001b[0m     \u001b[38;5;28;01mreturn\u001b[39;00m \u001b[38;5;28mself\u001b[39m\u001b[38;5;241m.\u001b[39m_getitem_multilevel(key)\n\u001b[1;32m-> 4102\u001b[0m indexer \u001b[38;5;241m=\u001b[39m \u001b[38;5;28mself\u001b[39m\u001b[38;5;241m.\u001b[39mcolumns\u001b[38;5;241m.\u001b[39mget_loc(key)\n\u001b[0;32m   4103\u001b[0m \u001b[38;5;28;01mif\u001b[39;00m is_integer(indexer):\n\u001b[0;32m   4104\u001b[0m     indexer \u001b[38;5;241m=\u001b[39m [indexer]\n",
      "File \u001b[1;32m~\\anaconda3\\Lib\\site-packages\\pandas\\core\\indexes\\base.py:3812\u001b[0m, in \u001b[0;36mIndex.get_loc\u001b[1;34m(self, key)\u001b[0m\n\u001b[0;32m   3807\u001b[0m     \u001b[38;5;28;01mif\u001b[39;00m \u001b[38;5;28misinstance\u001b[39m(casted_key, \u001b[38;5;28mslice\u001b[39m) \u001b[38;5;129;01mor\u001b[39;00m (\n\u001b[0;32m   3808\u001b[0m         \u001b[38;5;28misinstance\u001b[39m(casted_key, abc\u001b[38;5;241m.\u001b[39mIterable)\n\u001b[0;32m   3809\u001b[0m         \u001b[38;5;129;01mand\u001b[39;00m \u001b[38;5;28many\u001b[39m(\u001b[38;5;28misinstance\u001b[39m(x, \u001b[38;5;28mslice\u001b[39m) \u001b[38;5;28;01mfor\u001b[39;00m x \u001b[38;5;129;01min\u001b[39;00m casted_key)\n\u001b[0;32m   3810\u001b[0m     ):\n\u001b[0;32m   3811\u001b[0m         \u001b[38;5;28;01mraise\u001b[39;00m InvalidIndexError(key)\n\u001b[1;32m-> 3812\u001b[0m     \u001b[38;5;28;01mraise\u001b[39;00m \u001b[38;5;167;01mKeyError\u001b[39;00m(key) \u001b[38;5;28;01mfrom\u001b[39;00m \u001b[38;5;21;01merr\u001b[39;00m\n\u001b[0;32m   3813\u001b[0m \u001b[38;5;28;01mexcept\u001b[39;00m \u001b[38;5;167;01mTypeError\u001b[39;00m:\n\u001b[0;32m   3814\u001b[0m     \u001b[38;5;66;03m# If we have a listlike key, _check_indexing_error will raise\u001b[39;00m\n\u001b[0;32m   3815\u001b[0m     \u001b[38;5;66;03m#  InvalidIndexError. Otherwise we fall through and re-raise\u001b[39;00m\n\u001b[0;32m   3816\u001b[0m     \u001b[38;5;66;03m#  the TypeError.\u001b[39;00m\n\u001b[0;32m   3817\u001b[0m     \u001b[38;5;28mself\u001b[39m\u001b[38;5;241m.\u001b[39m_check_indexing_error(key)\n",
      "\u001b[1;31mKeyError\u001b[0m: 'Ambient temperature (˚C)'"
     ]
    },
    {
     "data": {
      "text/plain": [
       "<Figure size 800x600 with 0 Axes>"
      ]
     },
     "metadata": {},
     "output_type": "display_data"
    }
   ],
   "source": [
    "columns_to_plot = ['Ambient temperature (˚C)', 'pH', 'EC (µS/cm)', 'TDS (mg/L)', 'Turbidity (NTU)', 'TSS\\n(mL sed/L)']\n",
    "\n",
    "# Loop through each column\n",
    "for column in columns_to_plot:\n",
    "    plt.figure(figsize=(8, 6))  # Adjust figure size as needed\n",
    "    plt.hist(df_cleaned[column], bins=20, edgecolor='k') # Adjust number of bins as needed\n",
    "    plt.title(f'Histogram of {column}')\n",
    "    plt.xlabel(column)\n",
    "    plt.ylabel('Frequency')\n",
    "    plt.grid(True)\n",
    "    plt.show()\n"
   ]
  },
  {
   "cell_type": "markdown",
   "metadata": {},
   "source": [
    "---\n",
    "<a href=#six></a>\n",
    "## **Modeling**\n",
    "<a href=#cont>Back to Table of Contents</a>\n",
    "\n",
    "* **Purpose:** Develop and train predictive or statistical models.\n",
    "* **Details:** Describe the choice of models, feature selection and engineering processes, and show how the models are trained. Include code for setting up the models and explanations of the model parameters.\n",
    "---\n"
   ]
  },
  {
   "cell_type": "code",
   "execution_count": null,
   "metadata": {},
   "outputs": [],
   "source": [
    "#Please use code cells to code in and do not forget to comment your code."
   ]
  },
  {
   "cell_type": "markdown",
   "metadata": {},
   "source": [
    "---\n",
    "<a href=#seven></a>\n",
    "## **Evaluation and Validation**\n",
    "<a href=#cont>Back to Table of Contents</a>\n",
    "\n",
    "* **Purpose:** Evaluate and validate the effectiveness and accuracy of the models.\n",
    "* **Details:** Present metrics used to evaluate the models, such as accuracy, precision, recall, F1-score, etc. Discuss validation techniques employed, such as cross-validation or train/test split.\n",
    "---"
   ]
  },
  {
   "cell_type": "code",
   "execution_count": null,
   "metadata": {},
   "outputs": [],
   "source": [
    "#Please use code cells to code in and do not forget to comment your code."
   ]
  },
  {
   "cell_type": "markdown",
   "metadata": {},
   "source": [
    "---\n",
    "<a href=#eight></a>\n",
    "## **Final Model**\n",
    "<a href=#cont>Back to Table of Contents</a>\n",
    "\n",
    "* **Purpose:** Present the final model and its performance.\n",
    "* **Details:** Highlight the best-performing model and discuss its configuration, performance, and why it was chosen over others.\n",
    "---\n"
   ]
  },
  {
   "cell_type": "code",
   "execution_count": null,
   "metadata": {},
   "outputs": [],
   "source": [
    "#Please use code cells to code in and do not forget to comment your code."
   ]
  },
  {
   "cell_type": "markdown",
   "metadata": {},
   "source": [
    "---\n",
    "<a href=#nine></a>\n",
    "## **Conclusion and Future Work**\n",
    "<a href=#cont>Back to Table of Contents</a>\n",
    "\n",
    "* **Purpose:** Summarize the findings and discuss future directions.\n",
    "* **Details:** Conclude with a summary of the results, insights gained, limitations of the study, and suggestions for future projects or improvements in methodology or data collection.\n",
    "---\n"
   ]
  },
  {
   "cell_type": "code",
   "execution_count": null,
   "metadata": {},
   "outputs": [],
   "source": [
    "#Please use code cells to code in and do not forget to comment your code."
   ]
  },
  {
   "cell_type": "markdown",
   "metadata": {},
   "source": [
    "---\n",
    "<a href=#ten></a>\n",
    "## **References**\n",
    "<a href=#cont>Back to Table of Contents</a>\n",
    "\n",
    "* **Purpose:** Provide citations and sources of external content.\n",
    "* **Details:** List all the references and sources consulted during the project, including data sources, research papers, and documentation for tools and libraries used.\n",
    "---"
   ]
  },
  {
   "cell_type": "code",
   "execution_count": 40,
   "metadata": {},
   "outputs": [],
   "source": [
    "#Please use code cells to code in and do not forget to comment your code."
   ]
  },
  {
   "cell_type": "markdown",
   "metadata": {},
   "source": [
    "## Additional Sections to Consider\n",
    "\n",
    "* ### Appendix: \n",
    "For any additional code, detailed tables, or extended data visualizations that are supplementary to the main content.\n",
    "\n",
    "* ### Contributors: \n",
    "If this is a group project, list the contributors and their roles or contributions to the project.\n"
   ]
  },
  {
   "cell_type": "markdown",
   "metadata": {},
   "source": [
    "---\n",
    "<a href=#ten></a>\n",
    "## **Trello and Github**\n",
    "<a href=#cont>Back to Table of Contents</a>\n",
    "\n",
    "* **Trello:** https://trello.com/invite/b/67d7e7772b2861f27da83c33/ATTId86647883132da6673d4daf07089d5c1ED99E4A1/workplaceproject\n",
    "* **Github:** https://github.com/LeboL-moriski/Capstone"
   ]
  },
  {
   "cell_type": "code",
   "execution_count": null,
   "metadata": {},
   "outputs": [],
   "source": []
  }
 ],
 "metadata": {
  "kernelspec": {
   "display_name": "Python 3 (ipykernel)",
   "language": "python",
   "name": "python3"
  },
  "language_info": {
   "codemirror_mode": {
    "name": "ipython",
    "version": 3
   },
   "file_extension": ".py",
   "mimetype": "text/x-python",
   "name": "python",
   "nbconvert_exporter": "python",
   "pygments_lexer": "ipython3",
   "version": "3.12.4"
  }
 },
 "nbformat": 4,
 "nbformat_minor": 4
}
