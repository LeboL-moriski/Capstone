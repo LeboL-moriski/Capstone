{
  "cells": [
    {
      "cell_type": "markdown",
      "metadata": {
        "id": "GEBki4WoVD2w"
      },
      "source": [
        "# QCTO - Workplace Module\n",
        "\n",
        "### Project Title: Contaminated River Water Parameters\n",
        "#### Done By: Lebogang Letsoalo\n",
        "\n",
        "© ExploreAI 2024\n",
        "\n",
        "---\n",
        "\n",
        "## Table of Contents\n",
        "\n",
        "<a href=#BC> Background Context</a>\n",
        "\n",
        "<a href=#one>1. Importing Packages</a>\n",
        "\n",
        "<a href=#two>2. Data Collection and Description</a>\n",
        "\n",
        "<a href=#three>3. Loading Data </a>\n",
        "\n",
        "<a href=#four>4. Data Cleaning and Filtering</a>\n",
        "\n",
        "<a href=#five>5. Exploratory Data Analysis (EDA)</a>\n",
        "\n",
        "<a href=#six>6. Modeling </a>\n",
        "\n",
        "<a href=#seven>7. Evaluation and Validation</a>\n",
        "\n",
        "<a href=#eight>8. Final Model</a>\n",
        "\n",
        "<a href=#nine>9. Conclusion and Future Work</a>\n",
        "\n",
        "<a href=#ten>10. References</a>\n",
        "\n",
        "<a href=#Eleven>11. Trello and Github link</a>"
      ]
    },
    {
      "cell_type": "code",
      "execution_count": 3,
      "metadata": {
        "colab": {
          "base_uri": "https://localhost:8080/",
          "height": 122
        },
        "id": "TAkN-IT5VD20",
        "outputId": "b36c49ba-9f6d-4989-f656-b599c10a4de4"
      },
      "outputs": [
        {
          "output_type": "display_data",
          "data": {
            "text/plain": [
              "<IPython.core.display.HTML object>"
            ],
            "text/html": [
              "<center><img src=https://media.istockphoto.com/id/1390096829/photo/environment-engineer-collect-samples-of-wastewater-from-industrial-canals-in-test-tube-close.jpg?s=2048x2048&w=is&k=20&c=Cf_1pRlXeFtnAPwiQGbgWFHdBjYXwgp8qDPa_EI31nk= width=\"500\" height=\"100\"></center>"
            ]
          },
          "metadata": {}
        }
      ],
      "source": [
        "from IPython.display import display, HTML, Image\n",
        "\n",
        "# Display the image in the center of the notebook\n",
        "display(HTML('<center><img src=https://media.istockphoto.com/id/1390096829/photo/environment-engineer-collect-samples-of-wastewater-from-industrial-canals-in-test-tube-close.jpg?s=2048x2048&w=is&k=20&c=Cf_1pRlXeFtnAPwiQGbgWFHdBjYXwgp8qDPa_EI31nk= width=\"500\" height=\"100\"></center>'))\n"
      ]
    },
    {
      "cell_type": "markdown",
      "metadata": {
        "id": "FAhpiZeRVD22"
      },
      "source": [
        "---\n",
        " <a id=\"BC\"></a>\n",
        "## **Background Context**\n",
        "<a href=#cont>Back to Table of Contents</a>\n",
        "\n",
        "* **Purpose:**\n",
        "The purpose of this project is to analyze the physico-chemical parameters of a polluted river located in Buenos Aires, with a focus on identifying trends, correlations, and potential health or environmental risks.The goal for this project  is to predict the DO (which is the dissolved oxygen levels) parameter of the river based on the features collected in the dataset\n",
        "  \n",
        "* **Introduce:**\n",
        "Water pollution is a significant environmental issue in many urban areas, including Buenos Aires, where industrial, agricultural, and domestic activities contribute to the contamination of nearby rivers. The physico-chemical parameters of river water, such as temperature, pH, electrical conductivity (EC), total dissolved solids (TDS), and total suspended solids (TSS), provide vital information about the water quality and its suitability for human consumption, aquatic life, and ecological health. By examining these parameters over time and across different locations, this project seeks to uncover patterns of contamination and inform potential mitigation strategies.\n",
        "\n",
        "* **Objectives:**\n",
        "Data exploration and cleaning: Data Exploration and Cleaning: Organize and clean the data, addressing any missing values or inconsistencies to ensure accurate analysis.\n",
        "Trend Analysis: Analyze how key physico-chemical parameters such as pH, electrical conductivity, total dissolved solids, and total suspended solids change over time and across different sampling locations.\n",
        "Correlation Study: Identify relationships between different environmental variables (e.g., temperature, humidity, and pH) and how they influence the river's contamination levels.\n",
        "Predictive Modeling: Build models to predict water quality based on various environmental factors and sampling data.\n",
        "Recommendations for Environmental Management: Provide actionable insights and recommendations for improving water quality, including identifying critical pollution sources and suggesting mitigation measures."
      ]
    },
    {
      "cell_type": "markdown",
      "metadata": {
        "id": "o39hdlGBVD23"
      },
      "source": [
        "---\n",
        "<a href=#one></a>\n",
        "## **Importing Packages**\n",
        "<a href=#cont>Back to Table of Contents</a>\n",
        "\n",
        "* **Purpose:** Set up the Python environment with necessary libraries and tools.\n",
        "* **Details:** List and import all the Python packages that will be used throughout the project such as Pandas for data manipulation, Matplotlib/Seaborn for visualization, scikit-learn for modeling, etc.\n",
        "---"
      ]
    },
    {
      "cell_type": "code",
      "execution_count": 4,
      "metadata": {
        "id": "rx3sQ8lHVD24",
        "colab": {
          "base_uri": "https://localhost:8080/"
        },
        "outputId": "9a706217-bebf-445a-c93b-99346124410f"
      },
      "outputs": [
        {
          "output_type": "stream",
          "name": "stdout",
          "text": [
            "Requirement already satisfied: mlflow in /usr/local/lib/python3.11/dist-packages (2.21.3)\n",
            "Requirement already satisfied: mlflow-skinny==2.21.3 in /usr/local/lib/python3.11/dist-packages (from mlflow) (2.21.3)\n",
            "Requirement already satisfied: Flask<4 in /usr/local/lib/python3.11/dist-packages (from mlflow) (3.1.0)\n",
            "Requirement already satisfied: Jinja2<4,>=2.11 in /usr/local/lib/python3.11/dist-packages (from mlflow) (3.1.6)\n",
            "Requirement already satisfied: alembic!=1.10.0,<2 in /usr/local/lib/python3.11/dist-packages (from mlflow) (1.15.2)\n",
            "Requirement already satisfied: docker<8,>=4.0.0 in /usr/local/lib/python3.11/dist-packages (from mlflow) (7.1.0)\n",
            "Requirement already satisfied: graphene<4 in /usr/local/lib/python3.11/dist-packages (from mlflow) (3.4.3)\n",
            "Requirement already satisfied: gunicorn<24 in /usr/local/lib/python3.11/dist-packages (from mlflow) (23.0.0)\n",
            "Requirement already satisfied: markdown<4,>=3.3 in /usr/local/lib/python3.11/dist-packages (from mlflow) (3.7)\n",
            "Requirement already satisfied: matplotlib<4 in /usr/local/lib/python3.11/dist-packages (from mlflow) (3.10.0)\n",
            "Requirement already satisfied: numpy<3 in /usr/local/lib/python3.11/dist-packages (from mlflow) (2.0.2)\n",
            "Requirement already satisfied: pandas<3 in /usr/local/lib/python3.11/dist-packages (from mlflow) (2.2.2)\n",
            "Requirement already satisfied: pyarrow<20,>=4.0.0 in /usr/local/lib/python3.11/dist-packages (from mlflow) (18.1.0)\n",
            "Requirement already satisfied: scikit-learn<2 in /usr/local/lib/python3.11/dist-packages (from mlflow) (1.6.1)\n",
            "Requirement already satisfied: scipy<2 in /usr/local/lib/python3.11/dist-packages (from mlflow) (1.14.1)\n",
            "Requirement already satisfied: sqlalchemy<3,>=1.4.0 in /usr/local/lib/python3.11/dist-packages (from mlflow) (2.0.40)\n",
            "Requirement already satisfied: cachetools<6,>=5.0.0 in /usr/local/lib/python3.11/dist-packages (from mlflow-skinny==2.21.3->mlflow) (5.5.2)\n",
            "Requirement already satisfied: click<9,>=7.0 in /usr/local/lib/python3.11/dist-packages (from mlflow-skinny==2.21.3->mlflow) (8.1.8)\n",
            "Requirement already satisfied: cloudpickle<4 in /usr/local/lib/python3.11/dist-packages (from mlflow-skinny==2.21.3->mlflow) (3.1.1)\n",
            "Requirement already satisfied: databricks-sdk<1,>=0.20.0 in /usr/local/lib/python3.11/dist-packages (from mlflow-skinny==2.21.3->mlflow) (0.49.0)\n",
            "Requirement already satisfied: fastapi<1 in /usr/local/lib/python3.11/dist-packages (from mlflow-skinny==2.21.3->mlflow) (0.115.12)\n",
            "Requirement already satisfied: gitpython<4,>=3.1.9 in /usr/local/lib/python3.11/dist-packages (from mlflow-skinny==2.21.3->mlflow) (3.1.44)\n",
            "Requirement already satisfied: importlib_metadata!=4.7.0,<9,>=3.7.0 in /usr/local/lib/python3.11/dist-packages (from mlflow-skinny==2.21.3->mlflow) (8.6.1)\n",
            "Requirement already satisfied: opentelemetry-api<3,>=1.9.0 in /usr/local/lib/python3.11/dist-packages (from mlflow-skinny==2.21.3->mlflow) (1.31.1)\n",
            "Requirement already satisfied: opentelemetry-sdk<3,>=1.9.0 in /usr/local/lib/python3.11/dist-packages (from mlflow-skinny==2.21.3->mlflow) (1.31.1)\n",
            "Requirement already satisfied: packaging<25 in /usr/local/lib/python3.11/dist-packages (from mlflow-skinny==2.21.3->mlflow) (24.2)\n",
            "Requirement already satisfied: protobuf<6,>=3.12.0 in /usr/local/lib/python3.11/dist-packages (from mlflow-skinny==2.21.3->mlflow) (5.29.4)\n",
            "Requirement already satisfied: pydantic<3,>=1.10.8 in /usr/local/lib/python3.11/dist-packages (from mlflow-skinny==2.21.3->mlflow) (2.11.2)\n",
            "Requirement already satisfied: pyyaml<7,>=5.1 in /usr/local/lib/python3.11/dist-packages (from mlflow-skinny==2.21.3->mlflow) (6.0.2)\n",
            "Requirement already satisfied: requests<3,>=2.17.3 in /usr/local/lib/python3.11/dist-packages (from mlflow-skinny==2.21.3->mlflow) (2.32.3)\n",
            "Requirement already satisfied: sqlparse<1,>=0.4.0 in /usr/local/lib/python3.11/dist-packages (from mlflow-skinny==2.21.3->mlflow) (0.5.3)\n",
            "Requirement already satisfied: typing-extensions<5,>=4.0.0 in /usr/local/lib/python3.11/dist-packages (from mlflow-skinny==2.21.3->mlflow) (4.13.1)\n",
            "Requirement already satisfied: uvicorn<1 in /usr/local/lib/python3.11/dist-packages (from mlflow-skinny==2.21.3->mlflow) (0.34.0)\n",
            "Requirement already satisfied: Mako in /usr/lib/python3/dist-packages (from alembic!=1.10.0,<2->mlflow) (1.1.3)\n",
            "Requirement already satisfied: urllib3>=1.26.0 in /usr/local/lib/python3.11/dist-packages (from docker<8,>=4.0.0->mlflow) (2.3.0)\n",
            "Requirement already satisfied: Werkzeug>=3.1 in /usr/local/lib/python3.11/dist-packages (from Flask<4->mlflow) (3.1.3)\n",
            "Requirement already satisfied: itsdangerous>=2.2 in /usr/local/lib/python3.11/dist-packages (from Flask<4->mlflow) (2.2.0)\n",
            "Requirement already satisfied: blinker>=1.9 in /usr/local/lib/python3.11/dist-packages (from Flask<4->mlflow) (1.9.0)\n",
            "Requirement already satisfied: graphql-core<3.3,>=3.1 in /usr/local/lib/python3.11/dist-packages (from graphene<4->mlflow) (3.2.6)\n",
            "Requirement already satisfied: graphql-relay<3.3,>=3.1 in /usr/local/lib/python3.11/dist-packages (from graphene<4->mlflow) (3.2.0)\n",
            "Requirement already satisfied: python-dateutil<3,>=2.7.0 in /usr/local/lib/python3.11/dist-packages (from graphene<4->mlflow) (2.8.2)\n",
            "Requirement already satisfied: MarkupSafe>=2.0 in /usr/local/lib/python3.11/dist-packages (from Jinja2<4,>=2.11->mlflow) (3.0.2)\n",
            "Requirement already satisfied: contourpy>=1.0.1 in /usr/local/lib/python3.11/dist-packages (from matplotlib<4->mlflow) (1.3.1)\n",
            "Requirement already satisfied: cycler>=0.10 in /usr/local/lib/python3.11/dist-packages (from matplotlib<4->mlflow) (0.12.1)\n",
            "Requirement already satisfied: fonttools>=4.22.0 in /usr/local/lib/python3.11/dist-packages (from matplotlib<4->mlflow) (4.57.0)\n",
            "Requirement already satisfied: kiwisolver>=1.3.1 in /usr/local/lib/python3.11/dist-packages (from matplotlib<4->mlflow) (1.4.8)\n",
            "Requirement already satisfied: pillow>=8 in /usr/local/lib/python3.11/dist-packages (from matplotlib<4->mlflow) (11.1.0)\n",
            "Requirement already satisfied: pyparsing>=2.3.1 in /usr/local/lib/python3.11/dist-packages (from matplotlib<4->mlflow) (3.2.3)\n",
            "Requirement already satisfied: pytz>=2020.1 in /usr/local/lib/python3.11/dist-packages (from pandas<3->mlflow) (2025.2)\n",
            "Requirement already satisfied: tzdata>=2022.7 in /usr/local/lib/python3.11/dist-packages (from pandas<3->mlflow) (2025.2)\n",
            "Requirement already satisfied: joblib>=1.2.0 in /usr/local/lib/python3.11/dist-packages (from scikit-learn<2->mlflow) (1.4.2)\n",
            "Requirement already satisfied: threadpoolctl>=3.1.0 in /usr/local/lib/python3.11/dist-packages (from scikit-learn<2->mlflow) (3.6.0)\n",
            "Requirement already satisfied: greenlet>=1 in /usr/local/lib/python3.11/dist-packages (from sqlalchemy<3,>=1.4.0->mlflow) (3.1.1)\n",
            "Requirement already satisfied: google-auth~=2.0 in /usr/local/lib/python3.11/dist-packages (from databricks-sdk<1,>=0.20.0->mlflow-skinny==2.21.3->mlflow) (2.38.0)\n",
            "Requirement already satisfied: starlette<0.47.0,>=0.40.0 in /usr/local/lib/python3.11/dist-packages (from fastapi<1->mlflow-skinny==2.21.3->mlflow) (0.46.1)\n",
            "Requirement already satisfied: gitdb<5,>=4.0.1 in /usr/local/lib/python3.11/dist-packages (from gitpython<4,>=3.1.9->mlflow-skinny==2.21.3->mlflow) (4.0.12)\n",
            "Requirement already satisfied: zipp>=3.20 in /usr/local/lib/python3.11/dist-packages (from importlib_metadata!=4.7.0,<9,>=3.7.0->mlflow-skinny==2.21.3->mlflow) (3.21.0)\n",
            "Requirement already satisfied: deprecated>=1.2.6 in /usr/local/lib/python3.11/dist-packages (from opentelemetry-api<3,>=1.9.0->mlflow-skinny==2.21.3->mlflow) (1.2.18)\n",
            "Requirement already satisfied: opentelemetry-semantic-conventions==0.52b1 in /usr/local/lib/python3.11/dist-packages (from opentelemetry-sdk<3,>=1.9.0->mlflow-skinny==2.21.3->mlflow) (0.52b1)\n",
            "Requirement already satisfied: annotated-types>=0.6.0 in /usr/local/lib/python3.11/dist-packages (from pydantic<3,>=1.10.8->mlflow-skinny==2.21.3->mlflow) (0.7.0)\n",
            "Requirement already satisfied: pydantic-core==2.33.1 in /usr/local/lib/python3.11/dist-packages (from pydantic<3,>=1.10.8->mlflow-skinny==2.21.3->mlflow) (2.33.1)\n",
            "Requirement already satisfied: typing-inspection>=0.4.0 in /usr/local/lib/python3.11/dist-packages (from pydantic<3,>=1.10.8->mlflow-skinny==2.21.3->mlflow) (0.4.0)\n",
            "Requirement already satisfied: six>=1.5 in /usr/local/lib/python3.11/dist-packages (from python-dateutil<3,>=2.7.0->graphene<4->mlflow) (1.17.0)\n",
            "Requirement already satisfied: charset-normalizer<4,>=2 in /usr/local/lib/python3.11/dist-packages (from requests<3,>=2.17.3->mlflow-skinny==2.21.3->mlflow) (3.4.1)\n",
            "Requirement already satisfied: idna<4,>=2.5 in /usr/local/lib/python3.11/dist-packages (from requests<3,>=2.17.3->mlflow-skinny==2.21.3->mlflow) (3.10)\n",
            "Requirement already satisfied: certifi>=2017.4.17 in /usr/local/lib/python3.11/dist-packages (from requests<3,>=2.17.3->mlflow-skinny==2.21.3->mlflow) (2025.1.31)\n",
            "Requirement already satisfied: h11>=0.8 in /usr/local/lib/python3.11/dist-packages (from uvicorn<1->mlflow-skinny==2.21.3->mlflow) (0.14.0)\n",
            "Requirement already satisfied: wrapt<2,>=1.10 in /usr/local/lib/python3.11/dist-packages (from deprecated>=1.2.6->opentelemetry-api<3,>=1.9.0->mlflow-skinny==2.21.3->mlflow) (1.17.2)\n",
            "Requirement already satisfied: smmap<6,>=3.0.1 in /usr/local/lib/python3.11/dist-packages (from gitdb<5,>=4.0.1->gitpython<4,>=3.1.9->mlflow-skinny==2.21.3->mlflow) (5.0.2)\n",
            "Requirement already satisfied: pyasn1-modules>=0.2.1 in /usr/local/lib/python3.11/dist-packages (from google-auth~=2.0->databricks-sdk<1,>=0.20.0->mlflow-skinny==2.21.3->mlflow) (0.4.2)\n",
            "Requirement already satisfied: rsa<5,>=3.1.4 in /usr/local/lib/python3.11/dist-packages (from google-auth~=2.0->databricks-sdk<1,>=0.20.0->mlflow-skinny==2.21.3->mlflow) (4.9)\n",
            "Requirement already satisfied: anyio<5,>=3.6.2 in /usr/local/lib/python3.11/dist-packages (from starlette<0.47.0,>=0.40.0->fastapi<1->mlflow-skinny==2.21.3->mlflow) (4.9.0)\n",
            "Requirement already satisfied: sniffio>=1.1 in /usr/local/lib/python3.11/dist-packages (from anyio<5,>=3.6.2->starlette<0.47.0,>=0.40.0->fastapi<1->mlflow-skinny==2.21.3->mlflow) (1.3.1)\n",
            "Requirement already satisfied: pyasn1<0.7.0,>=0.6.1 in /usr/local/lib/python3.11/dist-packages (from pyasn1-modules>=0.2.1->google-auth~=2.0->databricks-sdk<1,>=0.20.0->mlflow-skinny==2.21.3->mlflow) (0.6.1)\n"
          ]
        }
      ],
      "source": [
        "#Please use code cells to code in and do not forget to comment your code.\n",
        "# Libraries for data loading, manipulation and analysis\n",
        "\n",
        "import numpy as np\n",
        "import pandas as pd\n",
        "import csv\n",
        "import datetime\n",
        "import seaborn as sns\n",
        "import matplotlib.pyplot as plt\n",
        "!pip install mlflow\n",
        "import mlflow\n",
        "import mlflow.sklearn\n",
        "\n",
        "import plotly.express as px\n",
        "import scipy\n"
      ]
    },
    {
      "cell_type": "markdown",
      "metadata": {
        "id": "-6kFm1ToVD24"
      },
      "source": [
        "---\n",
        "<a href=#two></a>\n",
        "## **Data Collection and Description**\n",
        "<a href=#cont>Back to Table of Contents</a>\n",
        "\n",
        "* **Purpose:** Describe how the data was collected and provide an overview of its characteristics.\n",
        "* **Details:** Mention sources of the data, the methods used for collection (e.g., APIs, web scraping, datasets from repositories), and a general description of the dataset including size, scope, and types of data available (e.g., numerical, categorical).\n",
        "---"
      ]
    },
    {
      "cell_type": "markdown",
      "metadata": {
        "id": "QoqA6KVjVD25"
      },
      "source": [
        "\n",
        "### Project Details: Contaminated River Water Parameters Analysis\n",
        "\n",
        "#### Dataset Overview\n",
        "The dataset used for this analysis was sourced from Kaggle and is the result of a collaborative research effort by three university researchers from Argentina. The research team collected water samples from a widely known polluted river located in Buenos Aires. These samples were taken from various sampling points along the river, including **Puente_Bilbao**, **Puente_Irigoyen**, and **Puente_Falbo**, and analyzed in a chemistry laboratory to measure several physico-chemical parametenent.\n",
        "\n",
        "The dataset has the following structure:\n",
        "\n",
        "- **Columns**: 32\n",
        "  - **Decimal values**: 14 columns (representing numerical values like temperature, pH, EC, TDS, and TSS).\n",
        "  - **Integer values**: 10 columns (representing variables like time, sample counts, or other measurements).\n",
        "  - **String values**: 6 columns (including sampling point names and other categorical data).\n",
        "\n",
        "The data is **chronologically sorted**, ensuring that the time sequence of the samples is preserved. This enables the identification of trends and variations over time, which is crucial for analyzing changes in water quality and the impac of pollution.\n",
        "\n",
        "#### Sampling Points\n",
        "The dataset includes water samples collected from three key sampling points located along the river:\n",
        "- **Puente_Bilbao**\n",
        "- **Puente_Irigoyen**Arroyo_Las Torres and Arroyo_Salguero are sampling points of 2 different streams flowing into the river.\n",
        "ewater quality in the river."
      ]
    },
    {
      "cell_type": "markdown",
      "metadata": {
        "id": "VBuSNslSVD26"
      },
      "source": [
        "---\n",
        "<a href=#three></a>\n",
        "## **Loading Data**\n",
        "<a href=#cont>Back to Table of Contents</a>\n",
        "\n",
        "* **Purpose:** Load the data into the notebook for manipulation and analysis.\n",
        "* **Details:** Show the code used to load the data and display the first few rows to give a sense of what the raw data looks like.\n",
        "---"
      ]
    },
    {
      "cell_type": "code",
      "execution_count": 5,
      "metadata": {
        "id": "u2hIycelVD27"
      },
      "outputs": [],
      "source": [
        "#reading the data\n",
        "df = pd.read_csv('River_water parameters.csv')\n"
      ]
    },
    {
      "cell_type": "code",
      "execution_count": 6,
      "metadata": {
        "id": "-jA802zoVD27",
        "colab": {
          "base_uri": "https://localhost:8080/",
          "height": 365
        },
        "outputId": "565a2050-9119-4a21-8ade-76e17b6686d0"
      },
      "outputs": [
        {
          "output_type": "execute_result",
          "data": {
            "text/plain": [
              "  Date (DD/MM/YYYY) Time (24 hrs XX:XX)     Sampling point  \\\n",
              "0        09/05/2023               14:15      Puente Bilbao   \n",
              "1        14/06/2023               14:30      Puente Bilbao   \n",
              "2        14/06/2023               14:30      Puente Bilbao   \n",
              "3        14/06/2023               15:00  Arroyo_Las Torres   \n",
              "4        14/06/2023               15:00  Arroyo_Las Torres   \n",
              "\n",
              "   Ambient temperature (°C)  Ambient humidity  Sample temperature (°C)   pH  \\\n",
              "0                      17.0              0.47                     19.0  8.3   \n",
              "1                      11.9              0.47                     13.0  8.1   \n",
              "2                      11.9              0.47                     13.0  8.2   \n",
              "3                      11.9              0.47                     13.0  8.3   \n",
              "4                      11.9              0.47                     13.0  8.5   \n",
              "\n",
              "   EC\\n(µS/cm)  TDS\\n(mg/L)  TSS\\n(mL sed/L)  DO\\n(mg/L)  Level (cm)  \\\n",
              "0         1630          810              1.8        4.30         NaN   \n",
              "1         1000          490             18.0        5.30         NaN   \n",
              "2         1000          490             18.0        4.67         NaN   \n",
              "3         1350          670              0.1        7.01         NaN   \n",
              "4         1350          660              0.1        7.23         NaN   \n",
              "\n",
              "   Turbidity (NTU)  Hardness\\n(mg CaCO3/L) Hardness classification  \\\n",
              "0              NaN                   147.0                  BLANDA   \n",
              "1             41.2                    94.0                  BLANDA   \n",
              "2             38.9                    86.0                  BLANDA   \n",
              "3             30.7                   200.0                SEMIDURA   \n",
              "4             25.6                   196.0                SEMIDURA   \n",
              "\n",
              "   Total Cl-\\n(mg Cl-/L)  \n",
              "0                  156.0  \n",
              "1                   78.0  \n",
              "2                   82.0  \n",
              "3                  117.0  \n",
              "4                  117.0  "
            ],
            "text/html": [
              "\n",
              "  <div id=\"df-43e350db-a1d7-47e8-b93e-28b6927adcf6\" class=\"colab-df-container\">\n",
              "    <div>\n",
              "<style scoped>\n",
              "    .dataframe tbody tr th:only-of-type {\n",
              "        vertical-align: middle;\n",
              "    }\n",
              "\n",
              "    .dataframe tbody tr th {\n",
              "        vertical-align: top;\n",
              "    }\n",
              "\n",
              "    .dataframe thead th {\n",
              "        text-align: right;\n",
              "    }\n",
              "</style>\n",
              "<table border=\"1\" class=\"dataframe\">\n",
              "  <thead>\n",
              "    <tr style=\"text-align: right;\">\n",
              "      <th></th>\n",
              "      <th>Date (DD/MM/YYYY)</th>\n",
              "      <th>Time (24 hrs XX:XX)</th>\n",
              "      <th>Sampling point</th>\n",
              "      <th>Ambient temperature (°C)</th>\n",
              "      <th>Ambient humidity</th>\n",
              "      <th>Sample temperature (°C)</th>\n",
              "      <th>pH</th>\n",
              "      <th>EC\\n(µS/cm)</th>\n",
              "      <th>TDS\\n(mg/L)</th>\n",
              "      <th>TSS\\n(mL sed/L)</th>\n",
              "      <th>DO\\n(mg/L)</th>\n",
              "      <th>Level (cm)</th>\n",
              "      <th>Turbidity (NTU)</th>\n",
              "      <th>Hardness\\n(mg CaCO3/L)</th>\n",
              "      <th>Hardness classification</th>\n",
              "      <th>Total Cl-\\n(mg Cl-/L)</th>\n",
              "    </tr>\n",
              "  </thead>\n",
              "  <tbody>\n",
              "    <tr>\n",
              "      <th>0</th>\n",
              "      <td>09/05/2023</td>\n",
              "      <td>14:15</td>\n",
              "      <td>Puente Bilbao</td>\n",
              "      <td>17.0</td>\n",
              "      <td>0.47</td>\n",
              "      <td>19.0</td>\n",
              "      <td>8.3</td>\n",
              "      <td>1630</td>\n",
              "      <td>810</td>\n",
              "      <td>1.8</td>\n",
              "      <td>4.30</td>\n",
              "      <td>NaN</td>\n",
              "      <td>NaN</td>\n",
              "      <td>147.0</td>\n",
              "      <td>BLANDA</td>\n",
              "      <td>156.0</td>\n",
              "    </tr>\n",
              "    <tr>\n",
              "      <th>1</th>\n",
              "      <td>14/06/2023</td>\n",
              "      <td>14:30</td>\n",
              "      <td>Puente Bilbao</td>\n",
              "      <td>11.9</td>\n",
              "      <td>0.47</td>\n",
              "      <td>13.0</td>\n",
              "      <td>8.1</td>\n",
              "      <td>1000</td>\n",
              "      <td>490</td>\n",
              "      <td>18.0</td>\n",
              "      <td>5.30</td>\n",
              "      <td>NaN</td>\n",
              "      <td>41.2</td>\n",
              "      <td>94.0</td>\n",
              "      <td>BLANDA</td>\n",
              "      <td>78.0</td>\n",
              "    </tr>\n",
              "    <tr>\n",
              "      <th>2</th>\n",
              "      <td>14/06/2023</td>\n",
              "      <td>14:30</td>\n",
              "      <td>Puente Bilbao</td>\n",
              "      <td>11.9</td>\n",
              "      <td>0.47</td>\n",
              "      <td>13.0</td>\n",
              "      <td>8.2</td>\n",
              "      <td>1000</td>\n",
              "      <td>490</td>\n",
              "      <td>18.0</td>\n",
              "      <td>4.67</td>\n",
              "      <td>NaN</td>\n",
              "      <td>38.9</td>\n",
              "      <td>86.0</td>\n",
              "      <td>BLANDA</td>\n",
              "      <td>82.0</td>\n",
              "    </tr>\n",
              "    <tr>\n",
              "      <th>3</th>\n",
              "      <td>14/06/2023</td>\n",
              "      <td>15:00</td>\n",
              "      <td>Arroyo_Las Torres</td>\n",
              "      <td>11.9</td>\n",
              "      <td>0.47</td>\n",
              "      <td>13.0</td>\n",
              "      <td>8.3</td>\n",
              "      <td>1350</td>\n",
              "      <td>670</td>\n",
              "      <td>0.1</td>\n",
              "      <td>7.01</td>\n",
              "      <td>NaN</td>\n",
              "      <td>30.7</td>\n",
              "      <td>200.0</td>\n",
              "      <td>SEMIDURA</td>\n",
              "      <td>117.0</td>\n",
              "    </tr>\n",
              "    <tr>\n",
              "      <th>4</th>\n",
              "      <td>14/06/2023</td>\n",
              "      <td>15:00</td>\n",
              "      <td>Arroyo_Las Torres</td>\n",
              "      <td>11.9</td>\n",
              "      <td>0.47</td>\n",
              "      <td>13.0</td>\n",
              "      <td>8.5</td>\n",
              "      <td>1350</td>\n",
              "      <td>660</td>\n",
              "      <td>0.1</td>\n",
              "      <td>7.23</td>\n",
              "      <td>NaN</td>\n",
              "      <td>25.6</td>\n",
              "      <td>196.0</td>\n",
              "      <td>SEMIDURA</td>\n",
              "      <td>117.0</td>\n",
              "    </tr>\n",
              "  </tbody>\n",
              "</table>\n",
              "</div>\n",
              "    <div class=\"colab-df-buttons\">\n",
              "\n",
              "  <div class=\"colab-df-container\">\n",
              "    <button class=\"colab-df-convert\" onclick=\"convertToInteractive('df-43e350db-a1d7-47e8-b93e-28b6927adcf6')\"\n",
              "            title=\"Convert this dataframe to an interactive table.\"\n",
              "            style=\"display:none;\">\n",
              "\n",
              "  <svg xmlns=\"http://www.w3.org/2000/svg\" height=\"24px\" viewBox=\"0 -960 960 960\">\n",
              "    <path d=\"M120-120v-720h720v720H120Zm60-500h600v-160H180v160Zm220 220h160v-160H400v160Zm0 220h160v-160H400v160ZM180-400h160v-160H180v160Zm440 0h160v-160H620v160ZM180-180h160v-160H180v160Zm440 0h160v-160H620v160Z\"/>\n",
              "  </svg>\n",
              "    </button>\n",
              "\n",
              "  <style>\n",
              "    .colab-df-container {\n",
              "      display:flex;\n",
              "      gap: 12px;\n",
              "    }\n",
              "\n",
              "    .colab-df-convert {\n",
              "      background-color: #E8F0FE;\n",
              "      border: none;\n",
              "      border-radius: 50%;\n",
              "      cursor: pointer;\n",
              "      display: none;\n",
              "      fill: #1967D2;\n",
              "      height: 32px;\n",
              "      padding: 0 0 0 0;\n",
              "      width: 32px;\n",
              "    }\n",
              "\n",
              "    .colab-df-convert:hover {\n",
              "      background-color: #E2EBFA;\n",
              "      box-shadow: 0px 1px 2px rgba(60, 64, 67, 0.3), 0px 1px 3px 1px rgba(60, 64, 67, 0.15);\n",
              "      fill: #174EA6;\n",
              "    }\n",
              "\n",
              "    .colab-df-buttons div {\n",
              "      margin-bottom: 4px;\n",
              "    }\n",
              "\n",
              "    [theme=dark] .colab-df-convert {\n",
              "      background-color: #3B4455;\n",
              "      fill: #D2E3FC;\n",
              "    }\n",
              "\n",
              "    [theme=dark] .colab-df-convert:hover {\n",
              "      background-color: #434B5C;\n",
              "      box-shadow: 0px 1px 3px 1px rgba(0, 0, 0, 0.15);\n",
              "      filter: drop-shadow(0px 1px 2px rgba(0, 0, 0, 0.3));\n",
              "      fill: #FFFFFF;\n",
              "    }\n",
              "  </style>\n",
              "\n",
              "    <script>\n",
              "      const buttonEl =\n",
              "        document.querySelector('#df-43e350db-a1d7-47e8-b93e-28b6927adcf6 button.colab-df-convert');\n",
              "      buttonEl.style.display =\n",
              "        google.colab.kernel.accessAllowed ? 'block' : 'none';\n",
              "\n",
              "      async function convertToInteractive(key) {\n",
              "        const element = document.querySelector('#df-43e350db-a1d7-47e8-b93e-28b6927adcf6');\n",
              "        const dataTable =\n",
              "          await google.colab.kernel.invokeFunction('convertToInteractive',\n",
              "                                                    [key], {});\n",
              "        if (!dataTable) return;\n",
              "\n",
              "        const docLinkHtml = 'Like what you see? Visit the ' +\n",
              "          '<a target=\"_blank\" href=https://colab.research.google.com/notebooks/data_table.ipynb>data table notebook</a>'\n",
              "          + ' to learn more about interactive tables.';\n",
              "        element.innerHTML = '';\n",
              "        dataTable['output_type'] = 'display_data';\n",
              "        await google.colab.output.renderOutput(dataTable, element);\n",
              "        const docLink = document.createElement('div');\n",
              "        docLink.innerHTML = docLinkHtml;\n",
              "        element.appendChild(docLink);\n",
              "      }\n",
              "    </script>\n",
              "  </div>\n",
              "\n",
              "\n",
              "<div id=\"df-b6ccce7a-cb92-4452-ac12-04f162d341fc\">\n",
              "  <button class=\"colab-df-quickchart\" onclick=\"quickchart('df-b6ccce7a-cb92-4452-ac12-04f162d341fc')\"\n",
              "            title=\"Suggest charts\"\n",
              "            style=\"display:none;\">\n",
              "\n",
              "<svg xmlns=\"http://www.w3.org/2000/svg\" height=\"24px\"viewBox=\"0 0 24 24\"\n",
              "     width=\"24px\">\n",
              "    <g>\n",
              "        <path d=\"M19 3H5c-1.1 0-2 .9-2 2v14c0 1.1.9 2 2 2h14c1.1 0 2-.9 2-2V5c0-1.1-.9-2-2-2zM9 17H7v-7h2v7zm4 0h-2V7h2v10zm4 0h-2v-4h2v4z\"/>\n",
              "    </g>\n",
              "</svg>\n",
              "  </button>\n",
              "\n",
              "<style>\n",
              "  .colab-df-quickchart {\n",
              "      --bg-color: #E8F0FE;\n",
              "      --fill-color: #1967D2;\n",
              "      --hover-bg-color: #E2EBFA;\n",
              "      --hover-fill-color: #174EA6;\n",
              "      --disabled-fill-color: #AAA;\n",
              "      --disabled-bg-color: #DDD;\n",
              "  }\n",
              "\n",
              "  [theme=dark] .colab-df-quickchart {\n",
              "      --bg-color: #3B4455;\n",
              "      --fill-color: #D2E3FC;\n",
              "      --hover-bg-color: #434B5C;\n",
              "      --hover-fill-color: #FFFFFF;\n",
              "      --disabled-bg-color: #3B4455;\n",
              "      --disabled-fill-color: #666;\n",
              "  }\n",
              "\n",
              "  .colab-df-quickchart {\n",
              "    background-color: var(--bg-color);\n",
              "    border: none;\n",
              "    border-radius: 50%;\n",
              "    cursor: pointer;\n",
              "    display: none;\n",
              "    fill: var(--fill-color);\n",
              "    height: 32px;\n",
              "    padding: 0;\n",
              "    width: 32px;\n",
              "  }\n",
              "\n",
              "  .colab-df-quickchart:hover {\n",
              "    background-color: var(--hover-bg-color);\n",
              "    box-shadow: 0 1px 2px rgba(60, 64, 67, 0.3), 0 1px 3px 1px rgba(60, 64, 67, 0.15);\n",
              "    fill: var(--button-hover-fill-color);\n",
              "  }\n",
              "\n",
              "  .colab-df-quickchart-complete:disabled,\n",
              "  .colab-df-quickchart-complete:disabled:hover {\n",
              "    background-color: var(--disabled-bg-color);\n",
              "    fill: var(--disabled-fill-color);\n",
              "    box-shadow: none;\n",
              "  }\n",
              "\n",
              "  .colab-df-spinner {\n",
              "    border: 2px solid var(--fill-color);\n",
              "    border-color: transparent;\n",
              "    border-bottom-color: var(--fill-color);\n",
              "    animation:\n",
              "      spin 1s steps(1) infinite;\n",
              "  }\n",
              "\n",
              "  @keyframes spin {\n",
              "    0% {\n",
              "      border-color: transparent;\n",
              "      border-bottom-color: var(--fill-color);\n",
              "      border-left-color: var(--fill-color);\n",
              "    }\n",
              "    20% {\n",
              "      border-color: transparent;\n",
              "      border-left-color: var(--fill-color);\n",
              "      border-top-color: var(--fill-color);\n",
              "    }\n",
              "    30% {\n",
              "      border-color: transparent;\n",
              "      border-left-color: var(--fill-color);\n",
              "      border-top-color: var(--fill-color);\n",
              "      border-right-color: var(--fill-color);\n",
              "    }\n",
              "    40% {\n",
              "      border-color: transparent;\n",
              "      border-right-color: var(--fill-color);\n",
              "      border-top-color: var(--fill-color);\n",
              "    }\n",
              "    60% {\n",
              "      border-color: transparent;\n",
              "      border-right-color: var(--fill-color);\n",
              "    }\n",
              "    80% {\n",
              "      border-color: transparent;\n",
              "      border-right-color: var(--fill-color);\n",
              "      border-bottom-color: var(--fill-color);\n",
              "    }\n",
              "    90% {\n",
              "      border-color: transparent;\n",
              "      border-bottom-color: var(--fill-color);\n",
              "    }\n",
              "  }\n",
              "</style>\n",
              "\n",
              "  <script>\n",
              "    async function quickchart(key) {\n",
              "      const quickchartButtonEl =\n",
              "        document.querySelector('#' + key + ' button');\n",
              "      quickchartButtonEl.disabled = true;  // To prevent multiple clicks.\n",
              "      quickchartButtonEl.classList.add('colab-df-spinner');\n",
              "      try {\n",
              "        const charts = await google.colab.kernel.invokeFunction(\n",
              "            'suggestCharts', [key], {});\n",
              "      } catch (error) {\n",
              "        console.error('Error during call to suggestCharts:', error);\n",
              "      }\n",
              "      quickchartButtonEl.classList.remove('colab-df-spinner');\n",
              "      quickchartButtonEl.classList.add('colab-df-quickchart-complete');\n",
              "    }\n",
              "    (() => {\n",
              "      let quickchartButtonEl =\n",
              "        document.querySelector('#df-b6ccce7a-cb92-4452-ac12-04f162d341fc button');\n",
              "      quickchartButtonEl.style.display =\n",
              "        google.colab.kernel.accessAllowed ? 'block' : 'none';\n",
              "    })();\n",
              "  </script>\n",
              "</div>\n",
              "\n",
              "    </div>\n",
              "  </div>\n"
            ],
            "application/vnd.google.colaboratory.intrinsic+json": {
              "type": "dataframe",
              "variable_name": "df",
              "summary": "{\n  \"name\": \"df\",\n  \"rows\": 219,\n  \"fields\": [\n    {\n      \"column\": \"Date (DD/MM/YYYY)\",\n      \"properties\": {\n        \"dtype\": \"category\",\n        \"num_unique_values\": 23,\n        \"samples\": [\n          \"03/10/2023\",\n          \"15/08/2023\",\n          \"09/05/2023\"\n        ],\n        \"semantic_type\": \"\",\n        \"description\": \"\"\n      }\n    },\n    {\n      \"column\": \"Time (24 hrs XX:XX)\",\n      \"properties\": {\n        \"dtype\": \"object\",\n        \"num_unique_values\": 31,\n        \"samples\": [\n          \"15:40\",\n          \"15:45\",\n          \"14:55\"\n        ],\n        \"semantic_type\": \"\",\n        \"description\": \"\"\n      }\n    },\n    {\n      \"column\": \"Sampling point\",\n      \"properties\": {\n        \"dtype\": \"category\",\n        \"num_unique_values\": 5,\n        \"samples\": [\n          \"Arroyo_Las Torres\",\n          \"Arroyo Salguero\",\n          \"Puente Irigoyen\"\n        ],\n        \"semantic_type\": \"\",\n        \"description\": \"\"\n      }\n    },\n    {\n      \"column\": \"Ambient temperature (\\u00b0C)\",\n      \"properties\": {\n        \"dtype\": \"number\",\n        \"std\": 5.163841465622552,\n        \"min\": 10.4,\n        \"max\": 30.5,\n        \"num_unique_values\": 21,\n        \"samples\": [\n          17.0,\n          13.8,\n          27.6\n        ],\n        \"semantic_type\": \"\",\n        \"description\": \"\"\n      }\n    },\n    {\n      \"column\": \"Ambient humidity\",\n      \"properties\": {\n        \"dtype\": \"number\",\n        \"std\": 0.16530343996180624,\n        \"min\": 0.19,\n        \"max\": 0.87,\n        \"num_unique_values\": 18,\n        \"samples\": [\n          0.47,\n          0.87,\n          0.52\n        ],\n        \"semantic_type\": \"\",\n        \"description\": \"\"\n      }\n    },\n    {\n      \"column\": \"Sample temperature (\\u00b0C)\",\n      \"properties\": {\n        \"dtype\": \"number\",\n        \"std\": 3.875318557421403,\n        \"min\": 12.8,\n        \"max\": 28.1,\n        \"num_unique_values\": 89,\n        \"samples\": [\n          21.1,\n          20.6,\n          21.0\n        ],\n        \"semantic_type\": \"\",\n        \"description\": \"\"\n      }\n    },\n    {\n      \"column\": \"pH\",\n      \"properties\": {\n        \"dtype\": \"number\",\n        \"std\": 0.28999053084608567,\n        \"min\": 7.2,\n        \"max\": 8.7,\n        \"num_unique_values\": 16,\n        \"samples\": [\n          8.3,\n          8.1,\n          7.8\n        ],\n        \"semantic_type\": \"\",\n        \"description\": \"\"\n      }\n    },\n    {\n      \"column\": \"EC\\n(\\u00b5S/cm)\",\n      \"properties\": {\n        \"dtype\": \"number\",\n        \"std\": 273,\n        \"min\": 200,\n        \"max\": 1710,\n        \"num_unique_values\": 90,\n        \"samples\": [\n          1140,\n          1470,\n          1110\n        ],\n        \"semantic_type\": \"\",\n        \"description\": \"\"\n      }\n    },\n    {\n      \"column\": \"TDS\\n(mg/L)\",\n      \"properties\": {\n        \"dtype\": \"number\",\n        \"std\": 135,\n        \"min\": 140,\n        \"max\": 850,\n        \"num_unique_values\": 54,\n        \"samples\": [\n          370,\n          400,\n          390\n        ],\n        \"semantic_type\": \"\",\n        \"description\": \"\"\n      }\n    },\n    {\n      \"column\": \"TSS\\n(mL sed/L)\",\n      \"properties\": {\n        \"dtype\": \"number\",\n        \"std\": 87.08314049307276,\n        \"min\": 0.1,\n        \"max\": 650.0,\n        \"num_unique_values\": 43,\n        \"samples\": [\n          280.0,\n          84.0,\n          2.0\n        ],\n        \"semantic_type\": \"\",\n        \"description\": \"\"\n      }\n    },\n    {\n      \"column\": \"DO\\n(mg/L)\",\n      \"properties\": {\n        \"dtype\": \"number\",\n        \"std\": 1.9575095468878978,\n        \"min\": 0.0,\n        \"max\": 9.12,\n        \"num_unique_values\": 179,\n        \"samples\": [\n          4.25,\n          6.02,\n          1.93\n        ],\n        \"semantic_type\": \"\",\n        \"description\": \"\"\n      }\n    },\n    {\n      \"column\": \"Level (cm)\",\n      \"properties\": {\n        \"dtype\": \"number\",\n        \"std\": 12.53288659610341,\n        \"min\": 10.0,\n        \"max\": 70.0,\n        \"num_unique_values\": 15,\n        \"samples\": [\n          40.0,\n          20.0,\n          28.0\n        ],\n        \"semantic_type\": \"\",\n        \"description\": \"\"\n      }\n    },\n    {\n      \"column\": \"Turbidity (NTU)\",\n      \"properties\": {\n        \"dtype\": \"number\",\n        \"std\": 234.59055259956688,\n        \"min\": 1.06,\n        \"max\": 1000.0,\n        \"num_unique_values\": 186,\n        \"samples\": [\n          99.7,\n          13.0,\n          24.5\n        ],\n        \"semantic_type\": \"\",\n        \"description\": \"\"\n      }\n    },\n    {\n      \"column\": \"Hardness\\n(mg CaCO3/L)\",\n      \"properties\": {\n        \"dtype\": \"number\",\n        \"std\": 56.05876074339014,\n        \"min\": 86.0,\n        \"max\": 316.0,\n        \"num_unique_values\": 64,\n        \"samples\": [\n          205.0,\n          108.0,\n          147.0\n        ],\n        \"semantic_type\": \"\",\n        \"description\": \"\"\n      }\n    },\n    {\n      \"column\": \"Hardness classification\",\n      \"properties\": {\n        \"dtype\": \"category\",\n        \"num_unique_values\": 2,\n        \"samples\": [\n          \"SEMIDURA\",\n          \"BLANDA\"\n        ],\n        \"semantic_type\": \"\",\n        \"description\": \"\"\n      }\n    },\n    {\n      \"column\": \"Total Cl-\\n(mg Cl-/L)\",\n      \"properties\": {\n        \"dtype\": \"number\",\n        \"std\": 32.785300687681385,\n        \"min\": 15.0,\n        \"max\": 174.0,\n        \"num_unique_values\": 67,\n        \"samples\": [\n          68.0,\n          64.0\n        ],\n        \"semantic_type\": \"\",\n        \"description\": \"\"\n      }\n    }\n  ]\n}"
            }
          },
          "metadata": {},
          "execution_count": 6
        }
      ],
      "source": [
        "\n",
        "#Print dataset\n",
        "df.head()"
      ]
    },
    {
      "cell_type": "code",
      "execution_count": 7,
      "metadata": {
        "colab": {
          "base_uri": "https://localhost:8080/"
        },
        "id": "dDReDCSTVD27",
        "outputId": "0ccb0499-26ed-4a8c-9c24-ca64231f171f"
      },
      "outputs": [
        {
          "output_type": "stream",
          "name": "stdout",
          "text": [
            "<class 'pandas.core.frame.DataFrame'>\n",
            "RangeIndex: 219 entries, 0 to 218\n",
            "Data columns (total 16 columns):\n",
            " #   Column                    Non-Null Count  Dtype  \n",
            "---  ------                    --------------  -----  \n",
            " 0   Date (DD/MM/YYYY)         219 non-null    object \n",
            " 1   Time (24 hrs XX:XX)       219 non-null    object \n",
            " 2   Sampling point            219 non-null    object \n",
            " 3   Ambient temperature (°C)  219 non-null    float64\n",
            " 4   Ambient humidity          219 non-null    float64\n",
            " 5   Sample temperature (°C)   219 non-null    float64\n",
            " 6   pH                        219 non-null    float64\n",
            " 7   EC\n",
            "(µS/cm)                219 non-null    int64  \n",
            " 8   TDS\n",
            "(mg/L)                219 non-null    int64  \n",
            " 9   TSS\n",
            "(mL sed/L)            213 non-null    float64\n",
            " 10  DO\n",
            "(mg/L)                 219 non-null    float64\n",
            " 11  Level (cm)                180 non-null    float64\n",
            " 12  Turbidity (NTU)           218 non-null    float64\n",
            " 13  Hardness\n",
            "(mg CaCO3/L)     217 non-null    float64\n",
            " 14  Hardness classification   217 non-null    object \n",
            " 15  Total Cl-\n",
            "(mg Cl-/L)      213 non-null    float64\n",
            "dtypes: float64(10), int64(2), object(4)\n",
            "memory usage: 27.5+ KB\n"
          ]
        }
      ],
      "source": [
        "#Print river water parameters dataset\n",
        "df.info()"
      ]
    },
    {
      "cell_type": "code",
      "execution_count": 8,
      "metadata": {
        "colab": {
          "base_uri": "https://localhost:8080/",
          "height": 585
        },
        "id": "cPojvsKXVD28",
        "outputId": "6f26c006-b673-4122-d6c6-67c297dfb51d"
      },
      "outputs": [
        {
          "output_type": "execute_result",
          "data": {
            "text/plain": [
              "Date (DD/MM/YYYY)            0\n",
              "Time (24 hrs XX:XX)          0\n",
              "Sampling point               0\n",
              "Ambient temperature (°C)     0\n",
              "Ambient humidity             0\n",
              "Sample temperature (°C)      0\n",
              "pH                           0\n",
              "EC\\n(µS/cm)                  0\n",
              "TDS\\n(mg/L)                  0\n",
              "TSS\\n(mL sed/L)              6\n",
              "DO\\n(mg/L)                   0\n",
              "Level (cm)                  39\n",
              "Turbidity (NTU)              1\n",
              "Hardness\\n(mg CaCO3/L)       2\n",
              "Hardness classification      2\n",
              "Total Cl-\\n(mg Cl-/L)        6\n",
              "dtype: int64"
            ],
            "text/html": [
              "<div>\n",
              "<style scoped>\n",
              "    .dataframe tbody tr th:only-of-type {\n",
              "        vertical-align: middle;\n",
              "    }\n",
              "\n",
              "    .dataframe tbody tr th {\n",
              "        vertical-align: top;\n",
              "    }\n",
              "\n",
              "    .dataframe thead th {\n",
              "        text-align: right;\n",
              "    }\n",
              "</style>\n",
              "<table border=\"1\" class=\"dataframe\">\n",
              "  <thead>\n",
              "    <tr style=\"text-align: right;\">\n",
              "      <th></th>\n",
              "      <th>0</th>\n",
              "    </tr>\n",
              "  </thead>\n",
              "  <tbody>\n",
              "    <tr>\n",
              "      <th>Date (DD/MM/YYYY)</th>\n",
              "      <td>0</td>\n",
              "    </tr>\n",
              "    <tr>\n",
              "      <th>Time (24 hrs XX:XX)</th>\n",
              "      <td>0</td>\n",
              "    </tr>\n",
              "    <tr>\n",
              "      <th>Sampling point</th>\n",
              "      <td>0</td>\n",
              "    </tr>\n",
              "    <tr>\n",
              "      <th>Ambient temperature (°C)</th>\n",
              "      <td>0</td>\n",
              "    </tr>\n",
              "    <tr>\n",
              "      <th>Ambient humidity</th>\n",
              "      <td>0</td>\n",
              "    </tr>\n",
              "    <tr>\n",
              "      <th>Sample temperature (°C)</th>\n",
              "      <td>0</td>\n",
              "    </tr>\n",
              "    <tr>\n",
              "      <th>pH</th>\n",
              "      <td>0</td>\n",
              "    </tr>\n",
              "    <tr>\n",
              "      <th>EC\\n(µS/cm)</th>\n",
              "      <td>0</td>\n",
              "    </tr>\n",
              "    <tr>\n",
              "      <th>TDS\\n(mg/L)</th>\n",
              "      <td>0</td>\n",
              "    </tr>\n",
              "    <tr>\n",
              "      <th>TSS\\n(mL sed/L)</th>\n",
              "      <td>6</td>\n",
              "    </tr>\n",
              "    <tr>\n",
              "      <th>DO\\n(mg/L)</th>\n",
              "      <td>0</td>\n",
              "    </tr>\n",
              "    <tr>\n",
              "      <th>Level (cm)</th>\n",
              "      <td>39</td>\n",
              "    </tr>\n",
              "    <tr>\n",
              "      <th>Turbidity (NTU)</th>\n",
              "      <td>1</td>\n",
              "    </tr>\n",
              "    <tr>\n",
              "      <th>Hardness\\n(mg CaCO3/L)</th>\n",
              "      <td>2</td>\n",
              "    </tr>\n",
              "    <tr>\n",
              "      <th>Hardness classification</th>\n",
              "      <td>2</td>\n",
              "    </tr>\n",
              "    <tr>\n",
              "      <th>Total Cl-\\n(mg Cl-/L)</th>\n",
              "      <td>6</td>\n",
              "    </tr>\n",
              "  </tbody>\n",
              "</table>\n",
              "</div><br><label><b>dtype:</b> int64</label>"
            ]
          },
          "metadata": {},
          "execution_count": 8
        }
      ],
      "source": [
        "#check for missing values in each row\n",
        "df.isnull().sum()\n"
      ]
    },
    {
      "cell_type": "code",
      "execution_count": 9,
      "metadata": {
        "colab": {
          "base_uri": "https://localhost:8080/"
        },
        "id": "nSl64RBCVD28",
        "outputId": "4bea8d44-e636-4c41-ff53-8c11c596cc8e"
      },
      "outputs": [
        {
          "output_type": "stream",
          "name": "stdout",
          "text": [
            "Empty DataFrame\n",
            "Columns: [Date (DD/MM/YYYY), Time (24 hrs XX:XX), Sampling point, Ambient temperature (°C), Ambient humidity, Sample temperature (°C), pH, EC\n",
            "(µS/cm), TDS\n",
            "(mg/L), TSS\n",
            "(mL sed/L), DO\n",
            "(mg/L), Level (cm), Turbidity (NTU), Hardness\n",
            "(mg CaCO3/L), Hardness classification, Total Cl-\n",
            "(mg Cl-/L)]\n",
            "Index: []\n"
          ]
        }
      ],
      "source": [
        "# Check for duplicate rows\n",
        "duplicates = df[df.duplicated()]\n",
        "print(duplicates.head())"
      ]
    },
    {
      "cell_type": "markdown",
      "metadata": {
        "id": "peYUM7DuVD29"
      },
      "source": [
        "---\n",
        "<a href=#four></a>\n",
        "## **Data Cleaning and Filtering**\n",
        "<a href=#cont>Back to Table of Contents</a>\n",
        "\n",
        "* **Purpose:** Prepare the data for analysis by cleaning and filtering.\n",
        "* **Details:** Include steps for handling missing values, removing outliers, correcting errors, and possibly reducing the data (filtering based on certain criteria or features).\n",
        "---"
      ]
    },
    {
      "cell_type": "code",
      "source": [
        "df = df.dropna(subset=['Hardness classification'])"
      ],
      "metadata": {
        "id": "JEFbQSaqB86R"
      },
      "execution_count": 10,
      "outputs": []
    },
    {
      "cell_type": "code",
      "execution_count": 11,
      "metadata": {
        "id": "7_TXLEvdVD2-"
      },
      "outputs": [],
      "source": [
        "# Calculate the mean of the 'Level (cm)' column, ignoring NaN values\n",
        "mean_level = df['Level (cm)'].mean()\n",
        "mean_Hardness = df['Hardness\\n(mg CaCO3/L)'].mean()\n",
        "mean_TSS = df['TSS\\n(mL sed/L)'].mean()\n",
        "mean_Total = df['Total Cl-\\n(mg Cl-/L)'].mean()\n"
      ]
    },
    {
      "cell_type": "code",
      "execution_count": 12,
      "metadata": {
        "id": "v05tNWloVD2-",
        "colab": {
          "base_uri": "https://localhost:8080/"
        },
        "outputId": "0bfee6e1-2058-40d1-ed74-cf99f3a11dda"
      },
      "outputs": [
        {
          "output_type": "stream",
          "name": "stderr",
          "text": [
            "<ipython-input-12-a1acda993e19>:2: SettingWithCopyWarning: \n",
            "A value is trying to be set on a copy of a slice from a DataFrame.\n",
            "Try using .loc[row_indexer,col_indexer] = value instead\n",
            "\n",
            "See the caveats in the documentation: https://pandas.pydata.org/pandas-docs/stable/user_guide/indexing.html#returning-a-view-versus-a-copy\n",
            "  df['Level (cm)'] = df['Level (cm)'].fillna(mean_level)\n",
            "<ipython-input-12-a1acda993e19>:3: SettingWithCopyWarning: \n",
            "A value is trying to be set on a copy of a slice from a DataFrame.\n",
            "Try using .loc[row_indexer,col_indexer] = value instead\n",
            "\n",
            "See the caveats in the documentation: https://pandas.pydata.org/pandas-docs/stable/user_guide/indexing.html#returning-a-view-versus-a-copy\n",
            "  df['Hardness\\n(mg CaCO3/L)'] = df['Hardness\\n(mg CaCO3/L)'].fillna(mean_Hardness)\n",
            "<ipython-input-12-a1acda993e19>:4: SettingWithCopyWarning: \n",
            "A value is trying to be set on a copy of a slice from a DataFrame.\n",
            "Try using .loc[row_indexer,col_indexer] = value instead\n",
            "\n",
            "See the caveats in the documentation: https://pandas.pydata.org/pandas-docs/stable/user_guide/indexing.html#returning-a-view-versus-a-copy\n",
            "  df['TSS\\n(mL sed/L)'] = df['TSS\\n(mL sed/L)'].fillna(mean_TSS)\n",
            "<ipython-input-12-a1acda993e19>:5: SettingWithCopyWarning: \n",
            "A value is trying to be set on a copy of a slice from a DataFrame.\n",
            "Try using .loc[row_indexer,col_indexer] = value instead\n",
            "\n",
            "See the caveats in the documentation: https://pandas.pydata.org/pandas-docs/stable/user_guide/indexing.html#returning-a-view-versus-a-copy\n",
            "  df['Total Cl-\\n(mg Cl-/L)'] = df['Total Cl-\\n(mg Cl-/L)'].fillna(mean_Total)\n"
          ]
        }
      ],
      "source": [
        "# Fill NaN values in the columns with the calculated mean\n",
        "df['Level (cm)'] = df['Level (cm)'].fillna(mean_level)\n",
        "df['Hardness\\n(mg CaCO3/L)'] = df['Hardness\\n(mg CaCO3/L)'].fillna(mean_Hardness)\n",
        "df['TSS\\n(mL sed/L)'] = df['TSS\\n(mL sed/L)'].fillna(mean_TSS)\n",
        "df['Total Cl-\\n(mg Cl-/L)'] = df['Total Cl-\\n(mg Cl-/L)'].fillna(mean_Total)\n"
      ]
    },
    {
      "source": [
        "\n",
        "df['Level (cm)'] = df['Level (cm)'].fillna(df['Level (cm)'].mean())\n",
        "df['Hardness\\n(mg CaCO3/L)'] = df['Hardness\\n(mg CaCO3/L)'].fillna(df['Hardness\\n(mg CaCO3/L)'].mean())\n",
        "df['TSS\\n(mL sed/L)'] = df['TSS\\n(mL sed/L)'].fillna(df['TSS\\n(mL sed/L)'].mean())\n",
        "df['Total Cl-\\n(mg Cl-/L)'] = df['Total Cl-\\n(mg Cl-/L)'].fillna(df['Total Cl-\\n(mg Cl-/L)'].mean())"
      ],
      "cell_type": "code",
      "metadata": {
        "colab": {
          "base_uri": "https://localhost:8080/"
        },
        "id": "42FsiJYqE2xO",
        "outputId": "53c77a87-d5e9-4fa6-830b-89c03cce7700"
      },
      "execution_count": 13,
      "outputs": [
        {
          "output_type": "stream",
          "name": "stderr",
          "text": [
            "<ipython-input-13-c2e54a2df598>:1: SettingWithCopyWarning: \n",
            "A value is trying to be set on a copy of a slice from a DataFrame.\n",
            "Try using .loc[row_indexer,col_indexer] = value instead\n",
            "\n",
            "See the caveats in the documentation: https://pandas.pydata.org/pandas-docs/stable/user_guide/indexing.html#returning-a-view-versus-a-copy\n",
            "  df['Level (cm)'] = df['Level (cm)'].fillna(df['Level (cm)'].mean())\n",
            "<ipython-input-13-c2e54a2df598>:2: SettingWithCopyWarning: \n",
            "A value is trying to be set on a copy of a slice from a DataFrame.\n",
            "Try using .loc[row_indexer,col_indexer] = value instead\n",
            "\n",
            "See the caveats in the documentation: https://pandas.pydata.org/pandas-docs/stable/user_guide/indexing.html#returning-a-view-versus-a-copy\n",
            "  df['Hardness\\n(mg CaCO3/L)'] = df['Hardness\\n(mg CaCO3/L)'].fillna(df['Hardness\\n(mg CaCO3/L)'].mean())\n",
            "<ipython-input-13-c2e54a2df598>:3: SettingWithCopyWarning: \n",
            "A value is trying to be set on a copy of a slice from a DataFrame.\n",
            "Try using .loc[row_indexer,col_indexer] = value instead\n",
            "\n",
            "See the caveats in the documentation: https://pandas.pydata.org/pandas-docs/stable/user_guide/indexing.html#returning-a-view-versus-a-copy\n",
            "  df['TSS\\n(mL sed/L)'] = df['TSS\\n(mL sed/L)'].fillna(df['TSS\\n(mL sed/L)'].mean())\n",
            "<ipython-input-13-c2e54a2df598>:4: SettingWithCopyWarning: \n",
            "A value is trying to be set on a copy of a slice from a DataFrame.\n",
            "Try using .loc[row_indexer,col_indexer] = value instead\n",
            "\n",
            "See the caveats in the documentation: https://pandas.pydata.org/pandas-docs/stable/user_guide/indexing.html#returning-a-view-versus-a-copy\n",
            "  df['Total Cl-\\n(mg Cl-/L)'] = df['Total Cl-\\n(mg Cl-/L)'].fillna(df['Total Cl-\\n(mg Cl-/L)'].mean())\n"
          ]
        }
      ]
    },
    {
      "cell_type": "code",
      "source": [
        "df.info()"
      ],
      "metadata": {
        "colab": {
          "base_uri": "https://localhost:8080/"
        },
        "id": "Po3J_pJ1R1jh",
        "outputId": "8e9d2231-52da-4497-99a9-ef28bb16e37c"
      },
      "execution_count": 14,
      "outputs": [
        {
          "output_type": "stream",
          "name": "stdout",
          "text": [
            "<class 'pandas.core.frame.DataFrame'>\n",
            "Index: 217 entries, 0 to 218\n",
            "Data columns (total 16 columns):\n",
            " #   Column                    Non-Null Count  Dtype  \n",
            "---  ------                    --------------  -----  \n",
            " 0   Date (DD/MM/YYYY)         217 non-null    object \n",
            " 1   Time (24 hrs XX:XX)       217 non-null    object \n",
            " 2   Sampling point            217 non-null    object \n",
            " 3   Ambient temperature (°C)  217 non-null    float64\n",
            " 4   Ambient humidity          217 non-null    float64\n",
            " 5   Sample temperature (°C)   217 non-null    float64\n",
            " 6   pH                        217 non-null    float64\n",
            " 7   EC\n",
            "(µS/cm)                217 non-null    int64  \n",
            " 8   TDS\n",
            "(mg/L)                217 non-null    int64  \n",
            " 9   TSS\n",
            "(mL sed/L)            217 non-null    float64\n",
            " 10  DO\n",
            "(mg/L)                 217 non-null    float64\n",
            " 11  Level (cm)                217 non-null    float64\n",
            " 12  Turbidity (NTU)           216 non-null    float64\n",
            " 13  Hardness\n",
            "(mg CaCO3/L)     217 non-null    float64\n",
            " 14  Hardness classification   217 non-null    object \n",
            " 15  Total Cl-\n",
            "(mg Cl-/L)      217 non-null    float64\n",
            "dtypes: float64(10), int64(2), object(4)\n",
            "memory usage: 28.8+ KB\n"
          ]
        }
      ]
    },
    {
      "cell_type": "code",
      "execution_count": 15,
      "metadata": {
        "colab": {
          "base_uri": "https://localhost:8080/"
        },
        "id": "qMXBZ0jsVD2-",
        "outputId": "fe8b5d2d-95aa-4412-c9b0-f9a455e083b7"
      },
      "outputs": [
        {
          "output_type": "stream",
          "name": "stdout",
          "text": [
            "  Date (DD/MM/YYYY) Time (24 hrs XX:XX)     Sampling point  \\\n",
            "0        09/05/2023               14:15      Puente Bilbao   \n",
            "1        14/06/2023               14:30      Puente Bilbao   \n",
            "2        14/06/2023               14:30      Puente Bilbao   \n",
            "3        14/06/2023               15:00  Arroyo_Las Torres   \n",
            "4        14/06/2023               15:00  Arroyo_Las Torres   \n",
            "\n",
            "   Ambient temperature (°C)  Ambient humidity  Sample temperature (°C)   pH  \\\n",
            "0                      17.0              0.47                     19.0  8.3   \n",
            "1                      11.9              0.47                     13.0  8.1   \n",
            "2                      11.9              0.47                     13.0  8.2   \n",
            "3                      11.9              0.47                     13.0  8.3   \n",
            "4                      11.9              0.47                     13.0  8.5   \n",
            "\n",
            "   EC\\n(µS/cm)  TDS\\n(mg/L)  TSS\\n(mL sed/L)  DO\\n(mg/L)  Level (cm)  \\\n",
            "0         1630          810              1.8        4.30   38.370787   \n",
            "1         1000          490             18.0        5.30   38.370787   \n",
            "2         1000          490             18.0        4.67   38.370787   \n",
            "3         1350          670              0.1        7.01   38.370787   \n",
            "4         1350          660              0.1        7.23   38.370787   \n",
            "\n",
            "   Turbidity (NTU)  Hardness\\n(mg CaCO3/L) Hardness classification  \\\n",
            "0              NaN                   147.0                  BLANDA   \n",
            "1             41.2                    94.0                  BLANDA   \n",
            "2             38.9                    86.0                  BLANDA   \n",
            "3             30.7                   200.0                SEMIDURA   \n",
            "4             25.6                   196.0                SEMIDURA   \n",
            "\n",
            "   Total Cl-\\n(mg Cl-/L)  \n",
            "0                  156.0  \n",
            "1                   78.0  \n",
            "2                   82.0  \n",
            "3                  117.0  \n",
            "4                  117.0  \n"
          ]
        }
      ],
      "source": [
        "# Remove duplicate rows\n",
        "df_cleaned = df.drop_duplicates()\n",
        "\n",
        "# reset the index after removing duplicates\n",
        "df_cleaned = df_cleaned.reset_index(drop=True)\n",
        "\n",
        "# Print the cleaned DataFrame\n",
        "print(df_cleaned.head())"
      ]
    },
    {
      "cell_type": "code",
      "execution_count": 16,
      "metadata": {
        "colab": {
          "base_uri": "https://localhost:8080/"
        },
        "id": "eZxajDmjVD2_",
        "outputId": "ab9b77fb-2f90-411c-9b33-d65a58be8c5a"
      },
      "outputs": [
        {
          "output_type": "execute_result",
          "data": {
            "text/plain": [
              "(2, 4)"
            ]
          },
          "metadata": {},
          "execution_count": 16
        }
      ],
      "source": [
        "from sklearn.feature_extraction.text import TfidfVectorizer\n",
        "\n",
        "vectorizer = TfidfVectorizer()\n",
        "X = vectorizer.fit_transform(df_cleaned[['Sampling point','Hardness classification']])\n",
        "X.shape"
      ]
    },
    {
      "cell_type": "code",
      "execution_count": 17,
      "metadata": {
        "colab": {
          "base_uri": "https://localhost:8080/"
        },
        "id": "SRGPMwQUVD2_",
        "outputId": "dd8d1d3b-5da0-4186-d96f-2d9202f0d827"
      },
      "outputs": [
        {
          "output_type": "stream",
          "name": "stdout",
          "text": [
            "Requirement already satisfied: scikit-learn in /usr/local/lib/python3.11/dist-packages (1.6.1)\n",
            "Requirement already satisfied: numpy>=1.19.5 in /usr/local/lib/python3.11/dist-packages (from scikit-learn) (2.0.2)\n",
            "Requirement already satisfied: scipy>=1.6.0 in /usr/local/lib/python3.11/dist-packages (from scikit-learn) (1.14.1)\n",
            "Requirement already satisfied: joblib>=1.2.0 in /usr/local/lib/python3.11/dist-packages (from scikit-learn) (1.4.2)\n",
            "Requirement already satisfied: threadpoolctl>=3.1.0 in /usr/local/lib/python3.11/dist-packages (from scikit-learn) (3.6.0)\n"
          ]
        }
      ],
      "source": [
        "!pip install scikit-learn"
      ]
    },
    {
      "cell_type": "code",
      "execution_count": 18,
      "metadata": {
        "id": "uYd5cGLQVD2_"
      },
      "outputs": [],
      "source": [
        "from sklearn.preprocessing import LabelEncoder\n",
        "#sample data: categorical labels\n",
        "categorical_cols= ['Sampling point','Hardness classification']\n",
        "#Initialize the LabelEncoder\n",
        "label_encoder= LabelEncoder()\n",
        "# Create a dictionary to store original and encoded labels for each column\n",
        "label_mapping = {}"
      ]
    },
    {
      "cell_type": "code",
      "execution_count": 19,
      "metadata": {
        "id": "ShiuEZ5LVD2_"
      },
      "outputs": [],
      "source": [
        "# 3. Fit and transform the data for each column\n",
        "for col in categorical_cols:\n",
        "    # Fit the encoder to the original labels\n",
        "    label_encoder.fit(df_cleaned[col])\n",
        "    # Transform the original labels to encoded labels\n",
        "    df_cleaned[col + '_encoded'] = label_encoder.transform(df_cleaned[col])\n",
        "\n",
        "    # Store the mapping in the dictionary\n",
        "    label_mapping[col] = dict(zip(label_encoder.classes_, label_encoder.transform(label_encoder.classes_)))"
      ]
    },
    {
      "cell_type": "code",
      "execution_count": 20,
      "metadata": {
        "colab": {
          "base_uri": "https://localhost:8080/"
        },
        "id": "1rob47EaVD2_",
        "outputId": "c1a654dc-9271-4346-90e3-ece2884f1ec1"
      },
      "outputs": [
        {
          "output_type": "stream",
          "name": "stdout",
          "text": [
            "Mapping for column: Sampling point\n",
            "  'Arroyo Salguero' --> 0\n",
            "  'Arroyo_Las Torres' --> 1\n",
            "  'Puente Bilbao' --> 2\n",
            "  'Puente Falbo' --> 3\n",
            "  'Puente Irigoyen' --> 4\n",
            "\n",
            "\n",
            "Mapping for column: Hardness classification\n",
            "  'BLANDA' --> 0\n",
            "  'SEMIDURA' --> 1\n",
            "\n",
            "\n"
          ]
        }
      ],
      "source": [
        "# 4. Display the mapping (Original Labels --> Encoded Labels)\n",
        "for column, mapping in label_mapping.items():\n",
        "    print(f\"Mapping for column: {column}\")\n",
        "    for original_label, encoded_label in mapping.items():\n",
        "        print(f\"  '{original_label}' --> {encoded_label}\")\n",
        "    print(\"\\n\")\n"
      ]
    },
    {
      "cell_type": "code",
      "source": [
        "COLUMNS = [\"Date\", \"Time\", \"Sampling_point\", \"Ambient_temperature\",\n",
        "           \"Ambient_humididty\", \"Sample_temperature\", \"ph\", \"Conductivity\",\n",
        "           \"TDS\", \"TSS\", \"DO\", \"Level\", \"Turbidity\", \"Hardness\", \"Hard_class\", \"CL\"]\n",
        "\n",
        "df_cleaned\n",
        "df.columns = COLUMNS\n",
        "\n",
        "# DateTime transform\n",
        "df.Date = pd.to_datetime(df.Date, format=\"%d/%m/%Y\")\n",
        "df.Time = pd.to_datetime(df.Time, format=\"%H:%M\")\n",
        "df[\"Datetime\"] = df.Date + pd.to_timedelta(df.Time.dt.strftime(\"%H:%M:%S\"))\n",
        "df.index = df.Datetime\n",
        "df.drop([\"Date\", \"Time\"], axis=1, inplace=True)\n",
        "\n",
        "df[\"minute\"] = df.Datetime.dt.minute\n",
        "df[\"hour\"] = df.Datetime.dt.hour\n",
        "df[\"day\"] = df.Datetime.dt.day\n",
        "df[\"month\"] = df.Datetime.dt.month\n",
        "#df[\"year\"] = df.Datetime.dt.year\n",
        "df[\"day_of_week\"] = df.Datetime.dt.dayofweek\n",
        "#df[\"is_weekend\"] = df.Datetime.dt.weekday // 5"
      ],
      "metadata": {
        "id": "t4CawaGWKj6u"
      },
      "execution_count": 21,
      "outputs": []
    },
    {
      "cell_type": "code",
      "source": [
        "df = pd.get_dummies(df, columns=[\"Sampling_point\"], prefix=\"pt\")\n",
        "\n",
        "labelencoder = LabelEncoder()\n",
        "df.Hard_class = labelencoder.fit_transform(df.Hard_class)"
      ],
      "metadata": {
        "id": "DRrwMg03h6It"
      },
      "execution_count": 22,
      "outputs": []
    },
    {
      "cell_type": "code",
      "source": [
        "df.head(3)\n"
      ],
      "metadata": {
        "colab": {
          "base_uri": "https://localhost:8080/",
          "height": 345
        },
        "id": "3dVO6Uq87Rin",
        "outputId": "f8a18288-8a00-46d0-9f77-f3e1fa5a88dd"
      },
      "execution_count": 23,
      "outputs": [
        {
          "output_type": "execute_result",
          "data": {
            "text/plain": [
              "                     Ambient_temperature  Ambient_humididty  \\\n",
              "Datetime                                                      \n",
              "2023-05-09 14:15:00                 17.0               0.47   \n",
              "2023-06-14 14:30:00                 11.9               0.47   \n",
              "2023-06-14 14:30:00                 11.9               0.47   \n",
              "\n",
              "                     Sample_temperature   ph  Conductivity  TDS   TSS    DO  \\\n",
              "Datetime                                                                      \n",
              "2023-05-09 14:15:00                19.0  8.3          1630  810   1.8  4.30   \n",
              "2023-06-14 14:30:00                13.0  8.1          1000  490  18.0  5.30   \n",
              "2023-06-14 14:30:00                13.0  8.2          1000  490  18.0  4.67   \n",
              "\n",
              "                         Level  Turbidity  ...  minute  hour  day month  \\\n",
              "Datetime                                   ...                            \n",
              "2023-05-09 14:15:00  38.370787        NaN  ...      15    14    9     5   \n",
              "2023-06-14 14:30:00  38.370787       41.2  ...      30    14   14     6   \n",
              "2023-06-14 14:30:00  38.370787       38.9  ...      30    14   14     6   \n",
              "\n",
              "                     day_of_week  pt_Arroyo Salguero  pt_Arroyo_Las Torres  \\\n",
              "Datetime                                                                     \n",
              "2023-05-09 14:15:00            1               False                 False   \n",
              "2023-06-14 14:30:00            2               False                 False   \n",
              "2023-06-14 14:30:00            2               False                 False   \n",
              "\n",
              "                     pt_Puente Bilbao  pt_Puente Falbo  pt_Puente Irigoyen  \n",
              "Datetime                                                                    \n",
              "2023-05-09 14:15:00              True            False               False  \n",
              "2023-06-14 14:30:00              True            False               False  \n",
              "2023-06-14 14:30:00              True            False               False  \n",
              "\n",
              "[3 rows x 24 columns]"
            ],
            "text/html": [
              "\n",
              "  <div id=\"df-ed38ac61-f67f-4fab-aa12-c6b18caf3070\" class=\"colab-df-container\">\n",
              "    <div>\n",
              "<style scoped>\n",
              "    .dataframe tbody tr th:only-of-type {\n",
              "        vertical-align: middle;\n",
              "    }\n",
              "\n",
              "    .dataframe tbody tr th {\n",
              "        vertical-align: top;\n",
              "    }\n",
              "\n",
              "    .dataframe thead th {\n",
              "        text-align: right;\n",
              "    }\n",
              "</style>\n",
              "<table border=\"1\" class=\"dataframe\">\n",
              "  <thead>\n",
              "    <tr style=\"text-align: right;\">\n",
              "      <th></th>\n",
              "      <th>Ambient_temperature</th>\n",
              "      <th>Ambient_humididty</th>\n",
              "      <th>Sample_temperature</th>\n",
              "      <th>ph</th>\n",
              "      <th>Conductivity</th>\n",
              "      <th>TDS</th>\n",
              "      <th>TSS</th>\n",
              "      <th>DO</th>\n",
              "      <th>Level</th>\n",
              "      <th>Turbidity</th>\n",
              "      <th>...</th>\n",
              "      <th>minute</th>\n",
              "      <th>hour</th>\n",
              "      <th>day</th>\n",
              "      <th>month</th>\n",
              "      <th>day_of_week</th>\n",
              "      <th>pt_Arroyo Salguero</th>\n",
              "      <th>pt_Arroyo_Las Torres</th>\n",
              "      <th>pt_Puente Bilbao</th>\n",
              "      <th>pt_Puente Falbo</th>\n",
              "      <th>pt_Puente Irigoyen</th>\n",
              "    </tr>\n",
              "    <tr>\n",
              "      <th>Datetime</th>\n",
              "      <th></th>\n",
              "      <th></th>\n",
              "      <th></th>\n",
              "      <th></th>\n",
              "      <th></th>\n",
              "      <th></th>\n",
              "      <th></th>\n",
              "      <th></th>\n",
              "      <th></th>\n",
              "      <th></th>\n",
              "      <th></th>\n",
              "      <th></th>\n",
              "      <th></th>\n",
              "      <th></th>\n",
              "      <th></th>\n",
              "      <th></th>\n",
              "      <th></th>\n",
              "      <th></th>\n",
              "      <th></th>\n",
              "      <th></th>\n",
              "      <th></th>\n",
              "    </tr>\n",
              "  </thead>\n",
              "  <tbody>\n",
              "    <tr>\n",
              "      <th>2023-05-09 14:15:00</th>\n",
              "      <td>17.0</td>\n",
              "      <td>0.47</td>\n",
              "      <td>19.0</td>\n",
              "      <td>8.3</td>\n",
              "      <td>1630</td>\n",
              "      <td>810</td>\n",
              "      <td>1.8</td>\n",
              "      <td>4.30</td>\n",
              "      <td>38.370787</td>\n",
              "      <td>NaN</td>\n",
              "      <td>...</td>\n",
              "      <td>15</td>\n",
              "      <td>14</td>\n",
              "      <td>9</td>\n",
              "      <td>5</td>\n",
              "      <td>1</td>\n",
              "      <td>False</td>\n",
              "      <td>False</td>\n",
              "      <td>True</td>\n",
              "      <td>False</td>\n",
              "      <td>False</td>\n",
              "    </tr>\n",
              "    <tr>\n",
              "      <th>2023-06-14 14:30:00</th>\n",
              "      <td>11.9</td>\n",
              "      <td>0.47</td>\n",
              "      <td>13.0</td>\n",
              "      <td>8.1</td>\n",
              "      <td>1000</td>\n",
              "      <td>490</td>\n",
              "      <td>18.0</td>\n",
              "      <td>5.30</td>\n",
              "      <td>38.370787</td>\n",
              "      <td>41.2</td>\n",
              "      <td>...</td>\n",
              "      <td>30</td>\n",
              "      <td>14</td>\n",
              "      <td>14</td>\n",
              "      <td>6</td>\n",
              "      <td>2</td>\n",
              "      <td>False</td>\n",
              "      <td>False</td>\n",
              "      <td>True</td>\n",
              "      <td>False</td>\n",
              "      <td>False</td>\n",
              "    </tr>\n",
              "    <tr>\n",
              "      <th>2023-06-14 14:30:00</th>\n",
              "      <td>11.9</td>\n",
              "      <td>0.47</td>\n",
              "      <td>13.0</td>\n",
              "      <td>8.2</td>\n",
              "      <td>1000</td>\n",
              "      <td>490</td>\n",
              "      <td>18.0</td>\n",
              "      <td>4.67</td>\n",
              "      <td>38.370787</td>\n",
              "      <td>38.9</td>\n",
              "      <td>...</td>\n",
              "      <td>30</td>\n",
              "      <td>14</td>\n",
              "      <td>14</td>\n",
              "      <td>6</td>\n",
              "      <td>2</td>\n",
              "      <td>False</td>\n",
              "      <td>False</td>\n",
              "      <td>True</td>\n",
              "      <td>False</td>\n",
              "      <td>False</td>\n",
              "    </tr>\n",
              "  </tbody>\n",
              "</table>\n",
              "<p>3 rows × 24 columns</p>\n",
              "</div>\n",
              "    <div class=\"colab-df-buttons\">\n",
              "\n",
              "  <div class=\"colab-df-container\">\n",
              "    <button class=\"colab-df-convert\" onclick=\"convertToInteractive('df-ed38ac61-f67f-4fab-aa12-c6b18caf3070')\"\n",
              "            title=\"Convert this dataframe to an interactive table.\"\n",
              "            style=\"display:none;\">\n",
              "\n",
              "  <svg xmlns=\"http://www.w3.org/2000/svg\" height=\"24px\" viewBox=\"0 -960 960 960\">\n",
              "    <path d=\"M120-120v-720h720v720H120Zm60-500h600v-160H180v160Zm220 220h160v-160H400v160Zm0 220h160v-160H400v160ZM180-400h160v-160H180v160Zm440 0h160v-160H620v160ZM180-180h160v-160H180v160Zm440 0h160v-160H620v160Z\"/>\n",
              "  </svg>\n",
              "    </button>\n",
              "\n",
              "  <style>\n",
              "    .colab-df-container {\n",
              "      display:flex;\n",
              "      gap: 12px;\n",
              "    }\n",
              "\n",
              "    .colab-df-convert {\n",
              "      background-color: #E8F0FE;\n",
              "      border: none;\n",
              "      border-radius: 50%;\n",
              "      cursor: pointer;\n",
              "      display: none;\n",
              "      fill: #1967D2;\n",
              "      height: 32px;\n",
              "      padding: 0 0 0 0;\n",
              "      width: 32px;\n",
              "    }\n",
              "\n",
              "    .colab-df-convert:hover {\n",
              "      background-color: #E2EBFA;\n",
              "      box-shadow: 0px 1px 2px rgba(60, 64, 67, 0.3), 0px 1px 3px 1px rgba(60, 64, 67, 0.15);\n",
              "      fill: #174EA6;\n",
              "    }\n",
              "\n",
              "    .colab-df-buttons div {\n",
              "      margin-bottom: 4px;\n",
              "    }\n",
              "\n",
              "    [theme=dark] .colab-df-convert {\n",
              "      background-color: #3B4455;\n",
              "      fill: #D2E3FC;\n",
              "    }\n",
              "\n",
              "    [theme=dark] .colab-df-convert:hover {\n",
              "      background-color: #434B5C;\n",
              "      box-shadow: 0px 1px 3px 1px rgba(0, 0, 0, 0.15);\n",
              "      filter: drop-shadow(0px 1px 2px rgba(0, 0, 0, 0.3));\n",
              "      fill: #FFFFFF;\n",
              "    }\n",
              "  </style>\n",
              "\n",
              "    <script>\n",
              "      const buttonEl =\n",
              "        document.querySelector('#df-ed38ac61-f67f-4fab-aa12-c6b18caf3070 button.colab-df-convert');\n",
              "      buttonEl.style.display =\n",
              "        google.colab.kernel.accessAllowed ? 'block' : 'none';\n",
              "\n",
              "      async function convertToInteractive(key) {\n",
              "        const element = document.querySelector('#df-ed38ac61-f67f-4fab-aa12-c6b18caf3070');\n",
              "        const dataTable =\n",
              "          await google.colab.kernel.invokeFunction('convertToInteractive',\n",
              "                                                    [key], {});\n",
              "        if (!dataTable) return;\n",
              "\n",
              "        const docLinkHtml = 'Like what you see? Visit the ' +\n",
              "          '<a target=\"_blank\" href=https://colab.research.google.com/notebooks/data_table.ipynb>data table notebook</a>'\n",
              "          + ' to learn more about interactive tables.';\n",
              "        element.innerHTML = '';\n",
              "        dataTable['output_type'] = 'display_data';\n",
              "        await google.colab.output.renderOutput(dataTable, element);\n",
              "        const docLink = document.createElement('div');\n",
              "        docLink.innerHTML = docLinkHtml;\n",
              "        element.appendChild(docLink);\n",
              "      }\n",
              "    </script>\n",
              "  </div>\n",
              "\n",
              "\n",
              "<div id=\"df-019555aa-4d36-456f-8973-0399dc8426d8\">\n",
              "  <button class=\"colab-df-quickchart\" onclick=\"quickchart('df-019555aa-4d36-456f-8973-0399dc8426d8')\"\n",
              "            title=\"Suggest charts\"\n",
              "            style=\"display:none;\">\n",
              "\n",
              "<svg xmlns=\"http://www.w3.org/2000/svg\" height=\"24px\"viewBox=\"0 0 24 24\"\n",
              "     width=\"24px\">\n",
              "    <g>\n",
              "        <path d=\"M19 3H5c-1.1 0-2 .9-2 2v14c0 1.1.9 2 2 2h14c1.1 0 2-.9 2-2V5c0-1.1-.9-2-2-2zM9 17H7v-7h2v7zm4 0h-2V7h2v10zm4 0h-2v-4h2v4z\"/>\n",
              "    </g>\n",
              "</svg>\n",
              "  </button>\n",
              "\n",
              "<style>\n",
              "  .colab-df-quickchart {\n",
              "      --bg-color: #E8F0FE;\n",
              "      --fill-color: #1967D2;\n",
              "      --hover-bg-color: #E2EBFA;\n",
              "      --hover-fill-color: #174EA6;\n",
              "      --disabled-fill-color: #AAA;\n",
              "      --disabled-bg-color: #DDD;\n",
              "  }\n",
              "\n",
              "  [theme=dark] .colab-df-quickchart {\n",
              "      --bg-color: #3B4455;\n",
              "      --fill-color: #D2E3FC;\n",
              "      --hover-bg-color: #434B5C;\n",
              "      --hover-fill-color: #FFFFFF;\n",
              "      --disabled-bg-color: #3B4455;\n",
              "      --disabled-fill-color: #666;\n",
              "  }\n",
              "\n",
              "  .colab-df-quickchart {\n",
              "    background-color: var(--bg-color);\n",
              "    border: none;\n",
              "    border-radius: 50%;\n",
              "    cursor: pointer;\n",
              "    display: none;\n",
              "    fill: var(--fill-color);\n",
              "    height: 32px;\n",
              "    padding: 0;\n",
              "    width: 32px;\n",
              "  }\n",
              "\n",
              "  .colab-df-quickchart:hover {\n",
              "    background-color: var(--hover-bg-color);\n",
              "    box-shadow: 0 1px 2px rgba(60, 64, 67, 0.3), 0 1px 3px 1px rgba(60, 64, 67, 0.15);\n",
              "    fill: var(--button-hover-fill-color);\n",
              "  }\n",
              "\n",
              "  .colab-df-quickchart-complete:disabled,\n",
              "  .colab-df-quickchart-complete:disabled:hover {\n",
              "    background-color: var(--disabled-bg-color);\n",
              "    fill: var(--disabled-fill-color);\n",
              "    box-shadow: none;\n",
              "  }\n",
              "\n",
              "  .colab-df-spinner {\n",
              "    border: 2px solid var(--fill-color);\n",
              "    border-color: transparent;\n",
              "    border-bottom-color: var(--fill-color);\n",
              "    animation:\n",
              "      spin 1s steps(1) infinite;\n",
              "  }\n",
              "\n",
              "  @keyframes spin {\n",
              "    0% {\n",
              "      border-color: transparent;\n",
              "      border-bottom-color: var(--fill-color);\n",
              "      border-left-color: var(--fill-color);\n",
              "    }\n",
              "    20% {\n",
              "      border-color: transparent;\n",
              "      border-left-color: var(--fill-color);\n",
              "      border-top-color: var(--fill-color);\n",
              "    }\n",
              "    30% {\n",
              "      border-color: transparent;\n",
              "      border-left-color: var(--fill-color);\n",
              "      border-top-color: var(--fill-color);\n",
              "      border-right-color: var(--fill-color);\n",
              "    }\n",
              "    40% {\n",
              "      border-color: transparent;\n",
              "      border-right-color: var(--fill-color);\n",
              "      border-top-color: var(--fill-color);\n",
              "    }\n",
              "    60% {\n",
              "      border-color: transparent;\n",
              "      border-right-color: var(--fill-color);\n",
              "    }\n",
              "    80% {\n",
              "      border-color: transparent;\n",
              "      border-right-color: var(--fill-color);\n",
              "      border-bottom-color: var(--fill-color);\n",
              "    }\n",
              "    90% {\n",
              "      border-color: transparent;\n",
              "      border-bottom-color: var(--fill-color);\n",
              "    }\n",
              "  }\n",
              "</style>\n",
              "\n",
              "  <script>\n",
              "    async function quickchart(key) {\n",
              "      const quickchartButtonEl =\n",
              "        document.querySelector('#' + key + ' button');\n",
              "      quickchartButtonEl.disabled = true;  // To prevent multiple clicks.\n",
              "      quickchartButtonEl.classList.add('colab-df-spinner');\n",
              "      try {\n",
              "        const charts = await google.colab.kernel.invokeFunction(\n",
              "            'suggestCharts', [key], {});\n",
              "      } catch (error) {\n",
              "        console.error('Error during call to suggestCharts:', error);\n",
              "      }\n",
              "      quickchartButtonEl.classList.remove('colab-df-spinner');\n",
              "      quickchartButtonEl.classList.add('colab-df-quickchart-complete');\n",
              "    }\n",
              "    (() => {\n",
              "      let quickchartButtonEl =\n",
              "        document.querySelector('#df-019555aa-4d36-456f-8973-0399dc8426d8 button');\n",
              "      quickchartButtonEl.style.display =\n",
              "        google.colab.kernel.accessAllowed ? 'block' : 'none';\n",
              "    })();\n",
              "  </script>\n",
              "</div>\n",
              "\n",
              "    </div>\n",
              "  </div>\n"
            ],
            "application/vnd.google.colaboratory.intrinsic+json": {
              "type": "dataframe",
              "variable_name": "df"
            }
          },
          "metadata": {},
          "execution_count": 23
        }
      ]
    },
    {
      "cell_type": "markdown",
      "metadata": {
        "id": "I_Z-fKmGVD3A"
      },
      "source": [
        "---\n",
        "<a href=#five></a>\n",
        "## **Exploratory Data Analysis (EDA)**\n",
        "<a href=#cont>Back to Table of Contents</a>\n",
        "\n",
        "* **Purpose:** Explore and visualize the data to uncover patterns, trends, and relationships.\n",
        "* **Details:** Use statistics and visualizations to explore the data. This may include histograms, box plots, scatter plots, and correlation matrices. Discuss any significant findings.\n",
        "---\n"
      ]
    },
    {
      "cell_type": "code",
      "source": [
        "sns.heatmap(df.corr())\n"
      ],
      "metadata": {
        "colab": {
          "base_uri": "https://localhost:8080/",
          "height": 591
        },
        "id": "S8zOSQHt8-n9",
        "outputId": "7d69f766-1f04-4eef-9f7e-765637b5baf6"
      },
      "execution_count": 24,
      "outputs": [
        {
          "output_type": "execute_result",
          "data": {
            "text/plain": [
              "<Axes: >"
            ]
          },
          "metadata": {},
          "execution_count": 24
        },
        {
          "output_type": "display_data",
          "data": {
            "text/plain": [
              "<Figure size 640x480 with 2 Axes>"
            ],
            "image/png": "[encoded data removed]"
          },
          "metadata": {}
        }
      ]
    },
    {
      "cell_type": "code",
      "source": [
        "sns.pairplot(df[[\"Conductivity\", \"TDS\", \"CL\"]])\n"
      ],
      "metadata": {
        "colab": {
          "base_uri": "https://localhost:8080/",
          "height": 774
        },
        "id": "bVMuLDm59Mqs",
        "outputId": "e0d6cc9a-7edf-4842-c9a4-c8332d318fd7"
      },
      "execution_count": 25,
      "outputs": [
        {
          "output_type": "execute_result",
          "data": {
            "text/plain": [
              "<seaborn.axisgrid.PairGrid at 0x7bfda6732fd0>"
            ]
          },
          "metadata": {},
          "execution_count": 25
        },
        {
          "output_type": "display_data",
          "data": {
            "text/plain": [
              "<Figure size 750x750 with 12 Axes>"
            ],
            "image/png": "[encoded data removed]"
          },
          "metadata": {}
        }
      ]
    },
    {
      "cell_type": "code",
      "source": [
        "sns.boxenplot(df.DO)\n"
      ],
      "metadata": {
        "id": "lXykFiRZqM-u",
        "colab": {
          "base_uri": "https://localhost:8080/",
          "height": 428
        },
        "outputId": "02f45834-88f5-44f3-e9b8-bedfb6a34d04"
      },
      "execution_count": 26,
      "outputs": [
        {
          "output_type": "execute_result",
          "data": {
            "text/plain": [
              "<Axes: ylabel='DO'>"
            ]
          },
          "metadata": {},
          "execution_count": 26
        },
        {
          "output_type": "display_data",
          "data": {
            "text/plain": [
              "<Figure size 640x480 with 1 Axes>"
            ],
            "image/png": "[encoded data removed]"
          },
          "metadata": {}
        }
      ]
    },
    {
      "cell_type": "code",
      "source": [
        "# Create the bar chart\n",
        "plt.figure(figsize=(8, 6))\n",
        "sns.barplot(x='Ambient_temperature', y='DO', data=df)\n",
        "plt.title('Correlation between Temperature and DO')\n",
        "plt.xlabel('Ambient Temperature')\n",
        "plt.ylabel('Dissolved Oxygen (DO)')\n",
        "plt.show()\n"
      ],
      "metadata": {
        "colab": {
          "base_uri": "https://localhost:8080/",
          "height": 564
        },
        "id": "oXw0r4xVx96w",
        "outputId": "7998756a-438e-4ffc-ded0-0c80c2d4468c"
      },
      "execution_count": 27,
      "outputs": [
        {
          "output_type": "display_data",
          "data": {
            "text/plain": [
              "<Figure size 800x600 with 1 Axes>"
            ],
            "image/png": "[encoded data removed]"
          },
          "metadata": {}
        }
      ]
    },
    {
      "cell_type": "code",
      "source": [
        "# Create the bar chart\n",
        "plt.figure(figsize=(10, 6))\n",
        "sns.barplot(x='month', y='DO', data=df) # Changed 'Ambient_temperature' to 'month'\n",
        "plt.title('Correlation between Months and DO') # Updated title\n",
        "plt.xlabel('Month') # Updated x-axis label\n",
        "plt.ylabel('Dissolved Oxygen (DO)')\n",
        "plt.show()\n"
      ],
      "metadata": {
        "colab": {
          "base_uri": "https://localhost:8080/",
          "height": 564
        },
        "id": "uuYVzRsyy2Ed",
        "outputId": "36412f4a-97a4-4ffd-c7ff-c66ef8049bc4"
      },
      "execution_count": 28,
      "outputs": [
        {
          "output_type": "display_data",
          "data": {
            "text/plain": [
              "<Figure size 1000x600 with 1 Axes>"
            ],
            "image/png": "[encoded data removed]"
          },
          "metadata": {}
        }
      ]
    },
    {
      "cell_type": "markdown",
      "metadata": {
        "id": "IBIMxk72VD3B"
      },
      "source": [
        "---\n",
        "<a href=#six></a>\n",
        "## **Modeling**\n",
        "<a href=#cont>Back to Table of Contents</a>\n",
        "\n",
        "* **Purpose:** Develop and train predictive or statistical models.\n",
        "* **Details:** Describe the choice of models, feature selection and engineering processes, and show how the models are trained. Include code for setting up the models and explanations of the model parameters.\n",
        "---\n"
      ]
    },
    {
      "cell_type": "code",
      "source": [
        "X, y = df[df.columns.difference([\"DO\", \"Datetime\"])], df[\"DO\"]\n",
        "\n",
        "train_size = 0.8\n",
        "train_index = int(train_size * len(X))\n",
        "\n",
        "X_train, X_test = X[:train_index], X[train_index:]\n",
        "y_train, y_test = y[:train_index], y[train_index:]"
      ],
      "metadata": {
        "id": "DB817n4kGf8E"
      },
      "execution_count": 29,
      "outputs": []
    },
    {
      "source": [
        "import pandas as pd\n",
        "from sklearn.impute import SimpleImputer\n",
        "from sklearn.linear_model import LinearRegression\n",
        "from sklearn.model_selection import train_test_split\n",
        "from sklearn.metrics import mean_squared_error, r2_score\n",
        "\n",
        "X, y = df[df.columns.difference([\"DO\", \"Datetime\"])], df[\"DO\"]\n",
        "\n",
        "# Split the data into training and testing sets\n",
        "X_train, X_test, y_train, y_test = train_test_split(X, y, test_size=0.2, random_state=42)\n",
        "\n",
        "# Create an imputer to replace NaN values with the mean of each column\n",
        "imputer = SimpleImputer(strategy='mean')  # You can change the strategy if needed\n",
        "\n",
        "# Fit the imputer on the training data and transform both training and testing data\n",
        "X_train_imputed = imputer.fit_transform(X_train)\n",
        "X_test_imputed = imputer.transform(X_test)\n",
        "\n",
        "# Initialize the linear regression model\n",
        "model = LinearRegression()\n",
        "\n",
        "# Train the model using the imputed data\n",
        "model.fit(X_train_imputed, y_train)\n",
        "\n",
        "# Make predictions on the test set\n",
        "y_pred = model.predict(X_test_imputed)\n",
        "\n",
        "# Evaluate the model\n",
        "mse = mean_squared_error(y_test, y_pred)\n",
        "rmse = np.sqrt(mean_squared_error(y_test, y_pred))\n",
        "\n",
        "print(f\"Mean Squared Error: {mse}\")\n",
        "print(f\"Root Mean Squared Error: {rmse}\")"
      ],
      "cell_type": "code",
      "metadata": {
        "colab": {
          "base_uri": "https://localhost:8080/"
        },
        "id": "ZGLz4gDL92il",
        "outputId": "584c835c-7c2b-48ce-874d-574a8c1dfc38"
      },
      "execution_count": 30,
      "outputs": [
        {
          "output_type": "stream",
          "name": "stdout",
          "text": [
            "Mean Squared Error: 1.5711835661791396\n",
            "Root Mean Squared Error: 1.2534686139585385\n"
          ]
        }
      ]
    },
    {
      "source": [
        "from sklearn.feature_selection import SelectKBest, f_regression\n",
        "\n",
        "# Assuming you have your features (X) and target (y) data:\n",
        "X, y = df[df.columns.difference([\"DO\", \"Datetime\"])], df[\"DO\"]\n",
        "\n",
        "# ... (Your existing code for train_test_split)\n",
        "\n",
        "# Create an imputer to replace NaN values with the mean of each column\n",
        "imputer = SimpleImputer(strategy='mean')  # You can change the strategy if needed\n",
        "\n"
      ],
      "cell_type": "code",
      "metadata": {
        "id": "Rrc2w8ru-Mc8"
      },
      "execution_count": 33,
      "outputs": []
    },
    {
      "cell_type": "code",
      "source": [
        "# Fit the imputer on the training data and transform both training and testing data\n",
        "X_imputed = imputer.fit_transform(X)\n",
        "\n",
        "# Initialize feature selector\n",
        "selector = SelectKBest(score_func=f_regression, k=5)  # Select top 5 features\n",
        "\n",
        "# Fit the selector to the imputed data\n",
        "X_new = selector.fit_transform(X_imputed, y)\n",
        "\n",
        "# Get selected feature names\n",
        "selected_features = X.columns[selector.get_support(indices=True)]\n",
        "\n",
        "# Create optimized training and testing sets\n",
        "X_train_optim = pd.DataFrame(X_new, columns=selected_features, index=X.index)[:train_index]\n",
        "X_test_optim = pd.DataFrame(X_new, columns=selected_features, index=X.index)[train_index:]\n",
        "\n",
        "# Now you can assign new column names:\n",
        "NAMES = [\"Ambient_temperature\", \"TDS\", \"month\", \"ph\", \"pt_Arroyo_Las Torres\"]\n",
        "X_train_optim.columns = NAMES\n",
        "X_test_optim.columns = NAMES"
      ],
      "metadata": {
        "id": "LPELfSIqbw8r"
      },
      "execution_count": 35,
      "outputs": []
    },
    {
      "source": [
        "from sklearn.metrics import make_scorer, mean_squared_error, mean_absolute_error\n",
        "\n",
        "rmse = make_scorer(lambda x,y : np.sqrt(mean_squared_error(x,y)))\n",
        "mae = make_scorer(mean_absolute_error)"
      ],
      "cell_type": "code",
      "metadata": {
        "id": "sdwy5fuWgIm2"
      },
      "execution_count": 36,
      "outputs": []
    },
    {
      "source": [
        "!pip install xgboost\n",
        "from xgboost import XGBRegressor\n",
        "from sklearn.model_selection import TimeSeriesSplit, cross_val_score\n",
        "\n",
        "xgbr = XGBRegressor()\n",
        "tscv = TimeSeriesSplit(n_splits=5)\n",
        "\n",
        "rmse_scores = cross_val_score(estimator=xgbr, X=X_train, y=y_train, scoring=rmse, cv=tscv)\n",
        "mae_scores = cross_val_score(estimator=xgbr, X=X_train, y=y_train, scoring=mae, cv=tscv)\n",
        "\n",
        "print(f\"train RMSE scores : {rmse_scores}\")\n",
        "print(f\"train mean RMSE : {rmse_scores.mean():.3f}\")\n",
        "\n",
        "print(f\"train MAE scores : {mae_scores}\")\n",
        "print(f\"train mean MAE : {mae_scores.mean():.3f}\")"
      ],
      "cell_type": "code",
      "metadata": {
        "colab": {
          "base_uri": "https://localhost:8080/"
        },
        "id": "Xgmpjq-EgWH6",
        "outputId": "e1bf2be3-86dd-40f2-cb46-f66210eca8aa"
      },
      "execution_count": 37,
      "outputs": [
        {
          "output_type": "stream",
          "name": "stdout",
          "text": [
            "Requirement already satisfied: xgboost in /usr/local/lib/python3.11/dist-packages (2.1.4)\n",
            "Requirement already satisfied: numpy in /usr/local/lib/python3.11/dist-packages (from xgboost) (2.0.2)\n",
            "Requirement already satisfied: nvidia-nccl-cu12 in /usr/local/lib/python3.11/dist-packages (from xgboost) (2.21.5)\n",
            "Requirement already satisfied: scipy in /usr/local/lib/python3.11/dist-packages (from xgboost) (1.14.1)\n",
            "train RMSE scores : [1.54579392 0.9808383  1.08584937 1.37600906 1.01726356]\n",
            "train mean RMSE : 1.201\n",
            "train MAE scores : [1.22791982 0.63550875 0.88428253 0.81823693 0.64449   ]\n",
            "train mean MAE : 0.842\n"
          ]
        }
      ]
    },
    {
      "cell_type": "markdown",
      "metadata": {
        "id": "-7idrJXdVD3B"
      },
      "source": [
        "---\n",
        "<a href=#seven></a>\n",
        "## **Evaluation and Validation**\n",
        "<a href=#cont>Back to Table of Contents</a>\n",
        "\n",
        "* **Purpose:** Evaluate and validate the effectiveness and accuracy of the models.\n",
        "* **Details:** Present metrics used to evaluate the models, such as accuracy, precision, recall, F1-score, etc. Discuss validation techniques employed, such as cross-validation or train/test split.\n",
        "---"
      ]
    },
    {
      "cell_type": "markdown",
      "metadata": {
        "id": "ZHgV3Jq1VD3B"
      },
      "source": [
        "---\n",
        "<a href=#eight></a>\n",
        "## **Final Model**\n",
        "<a href=#cont>Back to Table of Contents</a>\n",
        "\n",
        "* **Purpose:** Present the final model and its performance.\n",
        "* **Details:** Highlight the best-performing model and discuss its configuration, performance, and why it was chosen over others.\n",
        "---\n"
      ]
    },
    {
      "source": [
        "# prompt: evaluate the regression model using accuracy  and f1- score\n",
        "\n",
        "# Assuming 'y_pred' contains the predicted labels and 'y_test' the true labels\n",
        "# If your model outputs probabilities, you might need to convert them to class labels first.\n",
        "# For example: y_pred = (y_pred > 0.5).astype(int)\n",
        "\n",
        "from sklearn.metrics import accuracy_score, f1_score\n",
        "from sklearn.model_selection import train_test_split\n",
        "from sklearn.linear_model import LinearRegression\n",
        "\n",
        "\n",
        "# Assuming you have your features (X) and target (y) data:\n",
        "X, y = df[df.columns.difference([\"DO\", \"Datetime\"])], df[\"DO\"]\n",
        "\n",
        "# Split the data into training and testing sets\n",
        "X_train, X_test, y_train, y_test = train_test_split(X, y, test_size=0.2, random_state=42)  # Adjust test_size and random_state as needed\n",
        "\n",
        "# Create and train your model (example using Linear Regression)\n",
        "model = LinearRegression()\n",
        "model.fit(X_train, y_train)\n",
        "\n",
        "# Make predictions on the test set\n",
        "y_pred = model.predict(X_test)\n",
        "\n",
        "# If you are working with a classification problem, convert continuous predictions to class labels if necessary:\n",
        "# For example: y_pred = (y_pred > 0.5).astype(int)\n",
        "\n",
        "# Calculate accuracy (for classification problems)\n",
        "try:\n",
        "    accuracy = accuracy_score(y_test, y_pred)\n",
        "    print(f\"Accuracy: {accuracy}\")\n",
        "except ValueError:\n",
        "    print(\"Accuracy cannot be calculated for continuous target variables.\")\n",
        "\n",
        "# Calculate F1-score (for classification problems)\n",
        "try:\n",
        "    f1 = f1_score(y_test, y_pred, average='binary') # or 'macro', 'weighted' as needed\n",
        "    print(f\"F1-score: {f1}\")\n",
        "except ValueError:\n",
        "    print(\"F1-score cannot be calculated for continuous target variables.\")\n",
        "\n",
        "#If your target variable 'y' is continuous, you cannot directly calculate accuracy and F1-score\n",
        "#Those metrics are applicable to classification tasks, not regression\n",
        "\n",
        "#For continuous target variable, you can:\n",
        "#1. Discretize the target variable into categories first and then apply classification metrics\n",
        "#2. Evaluate your regression model with regression metrics:\n",
        "#     - Mean Squared Error (MSE)\n",
        "#     - Root Mean Squared Error (RMSE)\n",
        "#     - Mean Absolute Error (MAE)\n",
        "#     - R-squared (R2)\n",
        "\n",
        "#Example usage (assuming y_pred is a continuous variable)\n",
        "from sklearn.metrics import mean_squared_error, r2_score\n",
        "\n",
        "mse = mean_squared_error(y_test, y_pred)\n",
        "r2 = r2_score(y_test, y_pred)\n",
        "print(\"Mean Squared Error:\", mse)\n",
        "print(\"R-squared:\", r2)"
      ],
      "cell_type": "code",
      "metadata": {
        "id": "qUUCPNmL8_Gd"
      },
      "execution_count": null,
      "outputs": []
    },
    {
      "cell_type": "code",
      "execution_count": null,
      "metadata": {
        "id": "7JYjMHMeVD3C"
      },
      "outputs": [],
      "source": [
        "#Please use code cells to code in and do not forget to comment your code."
      ]
    },
    {
      "cell_type": "code",
      "source": [
        "# prompt: create a bar graph that shows the accuracy of the models\n",
        "\n",
        "import matplotlib.pyplot as plt\n",
        "import seaborn as sns\n",
        "\n",
        "# Sample accuracy data (replace with your actual model accuracy values)\n",
        "model_names = ['Linear Regression', 'XGBoost']\n",
        "accuracy_values = [accuracy, rmse_scores.mean()]  # Assuming 'accuracy' and 'rmse_scores.mean()' are defined\n",
        "\n",
        "# Create the bar plot\n",
        "plt.figure(figsize=(8, 6))\n",
        "sns.barplot(x=model_names, y=accuracy_values)\n",
        "plt.xlabel('Models')\n",
        "plt.ylabel('Accuracy/RMSE')  # Adjust y-axis label as needed\n",
        "plt.title('Model Accuracy Comparison')\n",
        "plt.show()\n"
      ],
      "metadata": {
        "id": "mf60ZRUKMH0J"
      },
      "execution_count": null,
      "outputs": []
    },
    {
      "cell_type": "markdown",
      "metadata": {
        "id": "XFPYkpq6VD3C"
      },
      "source": [
        "---\n",
        "<a href=#nine></a>\n",
        "## **Conclusion and Future Work**\n",
        "<a href=#cont>Back to Table of Contents</a>\n",
        "\n",
        "* **Purpose:** Summarize the findings and discuss future directions.\n",
        "* **Details:** Conclude with a summary of the results, insights gained, limitations of the study, and suggestions for future projects or improvements in methodology or data collection.\n",
        "---\n"
      ]
    },
    {
      "cell_type": "markdown",
      "source": [
        "In conclusion we can see that DO can be affected by many of the factors and for future purposes to be able to counteract the effects of all the other factors from dropping DO we can have seperate solutions such as:\n",
        "\n",
        "for High EC (Electrical Conductivity): Reduce salt and pollutant input by managing agricultural runoff and industrial discharge.\n",
        "\n",
        "High TDS (Total Dissolved Solids): Use filtration or dilution methods to lower mineral and contaminant concentrations.\n",
        "\n",
        "High TSS (Total Suspended Solids): Implement sediment control measures and filtration to improve water clarity and oxygen diffusion.\n",
        "\n",
        "Low DO (0 mg/L): Install aeration systems and reduce organic load to increase oxygen levels quickly.\n",
        "\n",
        "High Water Level (Level = 39 cm): Enhance water circulation to prevent stratification and support oxygen mixing throughout the column.\n",
        "\n",
        "High Turbidity: Minimize soil erosion and runoff to allow light penetration and promote oxygen-generating photosynthesis.\n",
        "\n",
        "High Hardness: Use softening techniques or blend with softer water to maintain DO stability for sensitive aquatic life.\n",
        "\n",
        "High Hardness Classification: Monitor mineral content and manage water sources to maintain DO-friendly conditions.\n",
        "\n",
        "High Chloride (Cl⁻): Limit chloride input from road salts and wastewater to protect aquatic organisms and maintain DO balance."
      ],
      "metadata": {
        "id": "o83Y7C9_XnUT"
      }
    },
    {
      "cell_type": "markdown",
      "metadata": {
        "id": "4mqz4jZmVD3C"
      },
      "source": [
        "---\n",
        "<a href=#ten></a>\n",
        "## **References**\n",
        "<a href=#cont>Back to Table of Contents</a>\n",
        "\n",
        "* **Purpose:** Provide citations and sources of external content.\n",
        "* **Details:**\n",
        "*https://www.kaggle.com/datasets/natanaelferran/river-water-parameters\n",
        "*https://athena.explore.ai/student/dashboard\n",
        "*https://youtu.be/O2Cw82YR5Bo\n",
        "---"
      ]
    },
    {
      "cell_type": "markdown",
      "metadata": {
        "id": "ekkLABUyVD3C"
      },
      "source": [
        "## Additional Sections to Consider\n",
        "\n",
        "* ### Appendix:\n",
        "Visuals on powerbi\n",
        "\n",
        "* ### Contributors:\n",
        "Lebogang Letsoalo ( Project manager )\n"
      ]
    },
    {
      "cell_type": "markdown",
      "metadata": {
        "id": "nkHJ4ipsVD3C"
      },
      "source": [
        "---\n",
        "<a href=#ten></a>\n",
        "## **Trello and Github**\n",
        "<a href=#cont>Back to Table of Contents</a>\n",
        "\n",
        "* **Trello:** https://trello.com/invite/b/67d7e7772b2861f27da83c33/ATTId86647883132da6673d4daf07089d5c1ED99E4A1/workplaceproject\n",
        "* **Github:** https://github.com/LeboL-moriski/Capstone"
      ]
    },
    {
      "cell_type": "code",
      "execution_count": null,
      "metadata": {
        "id": "0kabIlFOVD3D"
      },
      "outputs": [],
      "source": []
    }
  ],
  "metadata": {
    "kernelspec": {
      "display_name": "Python 3 (ipykernel)",
      "language": "python",
      "name": "python3"
    },
    "language_info": {
      "codemirror_mode": {
        "name": "ipython",
        "version": 3
      },
      "file_extension": ".py",
      "mimetype": "text/x-python",
      "name": "python",
      "nbconvert_exporter": "python",
      "pygments_lexer": "ipython3",
      "version": "3.12.4"
    },
    "colab": {
      "provenance": []
    }
  },
  "nbformat": 4,
  "nbformat_minor": 0
}